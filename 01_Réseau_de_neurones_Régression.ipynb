{
  "cells": [
    {
      "cell_type": "markdown",
      "metadata": {
        "id": "deCyrBJhmnGY"
      },
      "source": [
        "#**Qu'est-ce que la régression avec un réseau de neurone ?**\n",
        "\n",
        "Un réseau de neurone artificiel est un modèle de machiune learning permettant de réaliser un modèle de régression, soit une approche d'une variable suivant une ou plusieurs variables indépendantes qui lui sont correlées.\n",
        "\n",
        "Nous pouvons donc :\n",
        "- Prédire le prix de vente d'un bien suivant certains facteurs;\n",
        "- Prédire les coordonnées d'une Bounding Box d'une image;\n",
        "- Prédire le coût d'une assurance suivant les données démographique d'un personne;\n",
        "- ...\n",
        "\n",
        "##**Ce que nous allons voir**\n",
        "\n",
        "Dans cette étape nous allons voir \n",
        "- L'architecture d'un modèle neuronal\n",
        "- l'Input shape et l'Output shape :\n",
        "  - x = feature\n",
        "  - y = label\n",
        "- Créer des données et les entrainer\n",
        "- Etape de modélisation\n",
        "\n",
        "\n",
        "\n"
      ]
    },
    {
      "cell_type": "markdown",
      "metadata": {
        "id": "ySW69MAYmmSC"
      },
      "source": [
        ""
      ]
    },
    {
      "cell_type": "code",
      "execution_count": null,
      "metadata": {
        "colab": {
          "base_uri": "https://localhost:8080/"
        },
        "id": "UtAVvwItpUHA",
        "outputId": "e3365ed0-7d77-412a-b3f8-cd555bbb779c"
      },
      "outputs": [
        {
          "name": "stdout",
          "output_type": "stream",
          "text": [
            "2.8.2\n"
          ]
        }
      ],
      "source": [
        "# Import Tensorflow\n",
        "import tensorflow as tf\n",
        "print(tf.__version__)"
      ]
    },
    {
      "cell_type": "markdown",
      "metadata": {
        "id": "72Z2OVm8pzTx"
      },
      "source": [
        "#Créer des données et les entrainer"
      ]
    },
    {
      "cell_type": "markdown",
      "metadata": {
        "id": "Q6hV2yvcqZe0"
      },
      "source": [
        "## Créer les données"
      ]
    },
    {
      "cell_type": "code",
      "execution_count": null,
      "metadata": {
        "colab": {
          "base_uri": "https://localhost:8080/",
          "height": 282
        },
        "id": "LAj9bJtLp2pY",
        "outputId": "ff877c14-7381-498a-9821-6837256b85b9"
      },
      "outputs": [
        {
          "data": {
            "text/plain": [
              "<matplotlib.collections.PathCollection at 0x7f746e748390>"
            ]
          },
          "execution_count": 121,
          "metadata": {},
          "output_type": "execute_result"
        },
        {
          "data": {
            "image/png": "[encoded data removed]",
            "text/plain": [
              "<Figure size 432x288 with 1 Axes>"
            ]
          },
          "metadata": {},
          "output_type": "display_data"
        }
      ],
      "source": [
        "import numpy as np\n",
        "import matplotlib.pyplot as plt\n",
        "\n",
        "# Création de données\n",
        "X = np.array([-9.0,-6.0, -3.0, 0.0, 3.0, 6.0, 9.0, 12.0, 15.0])\n",
        "\n",
        "#Créer Label\n",
        "y= np.array([2.0, 5.0, 8.0, 11.0, 14.0, 17.0, 20.0, 23.0, 26.0])\n",
        "\n",
        "#Visualisation des données\n",
        "plt.scatter(X,y)\n"
      ]
    },
    {
      "cell_type": "code",
      "execution_count": null,
      "metadata": {
        "colab": {
          "base_uri": "https://localhost:8080/"
        },
        "id": "CgY9MwCZrWOQ",
        "outputId": "c9e0203d-1f67-477b-d070-8325030b0eb7"
      },
      "outputs": [
        {
          "data": {
            "text/plain": [
              "array([ True,  True,  True,  True,  True,  True,  True,  True,  True])"
            ]
          },
          "execution_count": 22,
          "metadata": {},
          "output_type": "execute_result"
        }
      ],
      "source": [
        "y == X+11"
      ]
    },
    {
      "cell_type": "markdown",
      "metadata": {
        "id": "-yv5k3ygred5"
      },
      "source": [
        ""
      ]
    },
    {
      "cell_type": "markdown",
      "metadata": {
        "id": "CvYY8r-Areiz"
      },
      "source": [
        "Nous avons ici nos données X que nous avons mis en relation avec les données y.\n",
        "- Y = x+11\n",
        "- Maintenant le but serait de prédire quelle serait y si X était pioché au hasard.\n",
        "ATTENTION, ici nous avons un seul X mis en relation avec y.\n",
        "- Shape X = 1\n",
        "- Shape y = 1\n",
        "\n",
        "mais nous pourrions aussi avoir :\n",
        "- Shape X = 3\n",
        "- Shape y = 1\n"
      ]
    },
    {
      "cell_type": "markdown",
      "metadata": {
        "id": "q0IeN1LNsoRv"
      },
      "source": [
        "## Entrée et sortie du modèle"
      ]
    },
    {
      "cell_type": "code",
      "execution_count": null,
      "metadata": {
        "colab": {
          "base_uri": "https://localhost:8080/"
        },
        "id": "Yy8ccsapsvE_",
        "outputId": "c9c874fe-6dca-4807-a13e-863f5b8bcb17"
      },
      "outputs": [
        {
          "data": {
            "text/plain": [
              "(<tf.Tensor: shape=(3,), dtype=string, numpy=array([b'Bedroom', b'bathroom', b'garage'], dtype=object)>,\n",
              " <tf.Tensor: shape=(1,), dtype=int32, numpy=array([939700], dtype=int32)>)"
            ]
          },
          "execution_count": 23,
          "metadata": {},
          "output_type": "execute_result"
        }
      ],
      "source": [
        "# Create \n",
        "house_info = tf.constant(['Bedroom', 'bathroom', 'garage'])\n",
        "house_price = tf.constant([939700])\n",
        "house_info, house_price"
      ]
    },
    {
      "cell_type": "markdown",
      "metadata": {
        "id": "uBi5kNrUodVI"
      },
      "source": [
        "Dans notre cas, nous avons 3 informations qui prédisent un seul prix\n",
        "\n",
        "Nous remarquons que :\n",
        "- Shape house_info = 3\n",
        "- Shape house_price = 1\n",
        "\n",
        "mais aucun n'ont de dimensions sur y!\n",
        "\n",
        "Mais revenons sur notre régression linéaire!"
      ]
    },
    {
      "cell_type": "code",
      "execution_count": null,
      "metadata": {
        "colab": {
          "base_uri": "https://localhost:8080/"
        },
        "id": "XBghHz7uo_L0",
        "outputId": "6e969081-9d8d-4e48-ff15-00412c088671"
      },
      "outputs": [
        {
          "data": {
            "text/plain": [
              "(-9.0, 2.0)"
            ]
          },
          "execution_count": 24,
          "metadata": {},
          "output_type": "execute_result"
        }
      ],
      "source": [
        "X[0], y[0]"
      ]
    },
    {
      "cell_type": "markdown",
      "metadata": {
        "id": "1AvcwrHGpFaB"
      },
      "source": [
        "- Cela signifie que si j'envoi -9, la réponse sera : 2"
      ]
    },
    {
      "cell_type": "code",
      "execution_count": null,
      "metadata": {
        "colab": {
          "base_uri": "https://localhost:8080/"
        },
        "id": "AkkFDbtppMDs",
        "outputId": "af6bf448-7ea0-416b-97d9-de8b37c8ebf9"
      },
      "outputs": [
        {
          "data": {
            "text/plain": [
              "(-6.0, 5.0)"
            ]
          },
          "execution_count": 25,
          "metadata": {},
          "output_type": "execute_result"
        }
      ],
      "source": [
        "X[1], y[1]"
      ]
    },
    {
      "cell_type": "markdown",
      "metadata": {
        "id": "z37PKUD-pVlg"
      },
      "source": [
        "- Cela signifie que si j'envoi -6, la réponse sera : 5"
      ]
    },
    {
      "cell_type": "markdown",
      "metadata": {
        "id": "GRWb3th7sm1B"
      },
      "source": [
        ""
      ]
    },
    {
      "cell_type": "markdown",
      "metadata": {
        "id": "f7HrLGV0pbrf"
      },
      "source": [
        "Nous voyons que dans notre modèle linaire : \n",
        "- Une variable X prédit une valeur y\n",
        "- Le but est donc d'envoyer une seule info X_Test pour avoir une réponse.\n",
        "- La \"taille\", la forme de l'entrée dépendra de la forme d'une variable X[i]\n",
        "- Regardons donc la taille d'un X[i]"
      ]
    },
    {
      "cell_type": "code",
      "execution_count": null,
      "metadata": {
        "colab": {
          "base_uri": "https://localhost:8080/"
        },
        "id": "JyI2M97uqMjE",
        "outputId": "e5511b6f-b990-4c65-f30e-afacb8e78454"
      },
      "outputs": [
        {
          "data": {
            "text/plain": [
              "((), ())"
            ]
          },
          "execution_count": 26,
          "metadata": {},
          "output_type": "execute_result"
        }
      ],
      "source": [
        "input_shape = X[0].shape\n",
        "output_shape = y[0].shape\n",
        "input_shape, output_shape"
      ]
    },
    {
      "cell_type": "markdown",
      "metadata": {
        "id": "VPiXiqckqVHc"
      },
      "source": [
        "Nous pouvons donc voir que la taille est \"nulle\"."
      ]
    },
    {
      "cell_type": "code",
      "execution_count": null,
      "metadata": {
        "colab": {
          "base_uri": "https://localhost:8080/"
        },
        "id": "miXGi1kFqbWv",
        "outputId": "21e54fda-d279-474b-ed7a-eac4b8137fde"
      },
      "outputs": [
        {
          "data": {
            "text/plain": [
              "0"
            ]
          },
          "execution_count": 27,
          "metadata": {},
          "output_type": "execute_result"
        }
      ],
      "source": [
        "X[0].ndim"
      ]
    },
    {
      "cell_type": "markdown",
      "metadata": {
        "id": "n-cflHvXqlZO"
      },
      "source": [
        "Nous l'avions vu plus tôt, la dilension est bien de 0.\n",
        "\n",
        "Ce n'est donc pas étrange d'avoir input_shape et output_shape = 0"
      ]
    },
    {
      "cell_type": "code",
      "execution_count": null,
      "metadata": {
        "colab": {
          "base_uri": "https://localhost:8080/"
        },
        "id": "3kcVn8Loq0YU",
        "outputId": "a464f0f3-bc17-45b1-9334-bc0c43665b22"
      },
      "outputs": [
        {
          "data": {
            "text/plain": [
              "(<tf.Tensor: shape=(9,), dtype=float64, numpy=array([-9., -6., -3.,  0.,  3.,  6.,  9., 12., 15.])>,\n",
              " <tf.Tensor: shape=(9,), dtype=float64, numpy=array([ 2.,  5.,  8., 11., 14., 17., 20., 23., 26.])>)"
            ]
          },
          "execution_count": 122,
          "metadata": {},
          "output_type": "execute_result"
        }
      ],
      "source": [
        "# Introduisons donc le tableau numpy X, dans un tenseur!\n",
        "X = tf.constant(X)\n",
        "y = tf.constant(y)\n",
        "X,y"
      ]
    },
    {
      "cell_type": "code",
      "execution_count": null,
      "metadata": {
        "colab": {
          "base_uri": "https://localhost:8080/"
        },
        "id": "l4q2OYcnrdbE",
        "outputId": "8ce7f907-6f6f-4cde-b29d-64505cc0faff"
      },
      "outputs": [
        {
          "data": {
            "text/plain": [
              "(TensorShape([]), TensorShape([]))"
            ]
          },
          "execution_count": 29,
          "metadata": {},
          "output_type": "execute_result"
        }
      ],
      "source": [
        "input_shape = X[0].shape\n",
        "output_shape = y[0].shape\n",
        "\n",
        "input_shape, output_shape"
      ]
    },
    {
      "cell_type": "markdown",
      "metadata": {
        "id": "yc9S2zkEsES4"
      },
      "source": [
        "Est-ce vraiment étonnant de voir qu'il n'y a pas e dimension?\n",
        "- Nous avons vu que Tensorflow utilise numpy.\n",
        "    - Dès lors, il est normal que les caractéristiques de numpy soient toujours les mêmes.\n",
        "\n",
        "Aussi, un scalaire predit un autre scalaire.\n",
        "La dimension, d'un tenseur de dimension 0 est bien un scalaire!\n",
        "\n",
        "Maintenant, essayons de prédire les choses!"
      ]
    },
    {
      "cell_type": "markdown",
      "metadata": {
        "id": "vlw_Qx13sf2f"
      },
      "source": [
        "## Les différentes étapes de modélisation avec TensorFlow"
      ]
    },
    {
      "cell_type": "markdown",
      "metadata": {
        "id": "LeALJr10rF_R"
      },
      "source": [
        ""
      ]
    },
    {
      "cell_type": "markdown",
      "metadata": {
        "id": "egLSSi3lu8mG"
      },
      "source": [
        "1. **Créer le modèle** - Définir les entrées, les sorties, les couches cachées éventuelles du modèle.\n",
        "2. **Compiler le modèle** - Définir la fonction loss (càd, la fonction qui va réguler le modèle), l'opmisieur et la métrique d'évaluation (Comment inpreter la performance du modèle) \n",
        "3. **Entrainer le modèle** - Mise en relation des données X avec les réponses y, au sein du modèle.\n",
        "4.**Evaluer le modèle** - vérifier sa pertinence"
      ]
    },
    {
      "cell_type": "markdown",
      "metadata": {
        "id": "5sTi4YX_rFWD"
      },
      "source": [
        ""
      ]
    },
    {
      "cell_type": "code",
      "execution_count": null,
      "metadata": {
        "colab": {
          "base_uri": "https://localhost:8080/",
          "height": 282
        },
        "id": "7Ri9jtkLvyKl",
        "outputId": "5b1cd219-03c3-47df-da88-7c03c0a692ca"
      },
      "outputs": [
        {
          "data": {
            "text/plain": [
              "<matplotlib.collections.PathCollection at 0x7f747df33590>"
            ]
          },
          "execution_count": 30,
          "metadata": {},
          "output_type": "execute_result"
        },
        {
          "data": {
            "image/png": "[encoded data removed]",
            "text/plain": [
              "<Figure size 432x288 with 1 Axes>"
            ]
          },
          "metadata": {},
          "output_type": "display_data"
        }
      ],
      "source": [
        "plt.scatter(X,y)"
      ]
    },
    {
      "cell_type": "code",
      "execution_count": null,
      "metadata": {
        "colab": {
          "base_uri": "https://localhost:8080/"
        },
        "id": "IubgkhFp6t1-",
        "outputId": "dae99a68-e2be-4b58-d07f-2351d1305bdc"
      },
      "outputs": [
        {
          "name": "stdout",
          "output_type": "stream",
          "text": [
            "Epoch 1/5\n",
            "1/1 [==============================] - 0s 316ms/step - loss: 9.5604 - mae: 9.5604\n",
            "Epoch 2/5\n",
            "1/1 [==============================] - 0s 8ms/step - loss: 9.4604 - mae: 9.4604\n",
            "Epoch 3/5\n",
            "1/1 [==============================] - 0s 7ms/step - loss: 9.3604 - mae: 9.3604\n",
            "Epoch 4/5\n",
            "1/1 [==============================] - 0s 8ms/step - loss: 9.2604 - mae: 9.2604\n",
            "Epoch 5/5\n",
            "1/1 [==============================] - 0s 7ms/step - loss: 9.1604 - mae: 9.1604\n"
          ]
        },
        {
          "data": {
            "text/plain": [
              "<keras.callbacks.History at 0x7f747ddf2310>"
            ]
          },
          "execution_count": 35,
          "metadata": {},
          "output_type": "execute_result"
        }
      ],
      "source": [
        "# Etape 1 : Création du modèle\n",
        "model = tf.keras.Sequential()\n",
        "model.add(tf.keras.layers.Dense(1))\n",
        "\n",
        "#Etape 2 : Compiler le modèle\n",
        "model.compile(loss=\"mae\",\n",
        "              optimizer=\"SGD\",\n",
        "              metrics=[\"mae\"])\n",
        "\n",
        "X = tf.expand_dims(X, axis=-1)\n",
        "#3. Entrainement du modèle\n",
        "model.fit(X,y, epochs = 5)"
      ]
    },
    {
      "cell_type": "markdown",
      "metadata": {
        "id": "OehAA6uu7Lm-"
      },
      "source": [
        "Remarquons que la fonction loss est en relation parfaite avec la métrice d'évaluation mae.\n",
        "\n",
        "En efet, vu qu'il y a un seul neurone, la fonction loss est aussi son évaluation!"
      ]
    },
    {
      "cell_type": "code",
      "execution_count": null,
      "metadata": {
        "colab": {
          "base_uri": "https://localhost:8080/"
        },
        "id": "oq-FIGQS25Hz",
        "outputId": "7408715c-364a-4f91-8948-961ff5a5deb8"
      },
      "outputs": [
        {
          "data": {
            "text/plain": [
              "array([[27.757627]], dtype=float32)"
            ]
          },
          "execution_count": 37,
          "metadata": {},
          "output_type": "execute_result"
        }
      ],
      "source": [
        "\n",
        "X_test = [17.0]\n",
        "X_test = tf.expand_dims(X_test, axis =1)\n",
        "model.predict(X_test)"
      ]
    },
    {
      "cell_type": "markdown",
      "metadata": {
        "id": "pmjRmnRvsfaW"
      },
      "source": [
        "Souvenez-vous\n",
        "Le modèle était du genre : y=X+11\n",
        "- Ici, 17+11 = 29. \n",
        "\n",
        "Nous pouvons donc rendre notre modèle simple plus complexe en l'améliorant"
      ]
    },
    {
      "cell_type": "markdown",
      "metadata": {
        "id": "qB4K3vOLsaaP"
      },
      "source": [
        "## Améliorons notre modèle"
      ]
    },
    {
      "cell_type": "markdown",
      "metadata": {
        "id": "XCP-qlk9tlp-"
      },
      "source": [
        "1. **Créer le modèle** - Rendons le plus complex. Non pas qu'avec un perceptrons mais avec un réseau de neurone.\n",
        "2. **Compiler le modele** - Changeons la fonction d'optimisation  ou peut-être le **learning rate**  de cette fonction\n",
        "3. **Entrainer le modèle** - Essayeons plus d'**epochs** ( entrainant plus longtemps), ou donnons plus de **données* à apprendre au modèle."
      ]
    },
    {
      "cell_type": "markdown",
      "metadata": {
        "id": "SskckdBHxd51"
      },
      "source": [
        "### Changeons juste le nombre d'époch."
      ]
    },
    {
      "cell_type": "code",
      "execution_count": null,
      "metadata": {
        "colab": {
          "base_uri": "https://localhost:8080/"
        },
        "id": "r35zyTkLuYs1",
        "outputId": "99a28ad9-b4f6-454b-e578-047b00e74c46"
      },
      "outputs": [
        {
          "name": "stdout",
          "output_type": "stream",
          "text": [
            "Epoch 1/100\n",
            "1/1 [==============================] - 0s 285ms/step - loss: 9.5792 - mae: 9.5792\n",
            "Epoch 2/100\n",
            "1/1 [==============================] - 0s 9ms/step - loss: 9.4792 - mae: 9.4792\n",
            "Epoch 3/100\n",
            "1/1 [==============================] - 0s 9ms/step - loss: 9.3792 - mae: 9.3792\n",
            "Epoch 4/100\n",
            "1/1 [==============================] - 0s 9ms/step - loss: 9.2792 - mae: 9.2792\n",
            "Epoch 5/100\n",
            "1/1 [==============================] - 0s 9ms/step - loss: 9.1792 - mae: 9.1792\n",
            "Epoch 6/100\n",
            "1/1 [==============================] - 0s 18ms/step - loss: 9.0792 - mae: 9.0792\n",
            "Epoch 7/100\n",
            "1/1 [==============================] - 0s 9ms/step - loss: 8.9792 - mae: 8.9792\n",
            "Epoch 8/100\n",
            "1/1 [==============================] - 0s 13ms/step - loss: 8.8792 - mae: 8.8792\n",
            "Epoch 9/100\n",
            "1/1 [==============================] - 0s 17ms/step - loss: 8.7792 - mae: 8.7792\n",
            "Epoch 10/100\n",
            "1/1 [==============================] - 0s 7ms/step - loss: 8.7334 - mae: 8.7334\n",
            "Epoch 11/100\n",
            "1/1 [==============================] - 0s 10ms/step - loss: 8.7263 - mae: 8.7263\n",
            "Epoch 12/100\n",
            "1/1 [==============================] - 0s 6ms/step - loss: 8.7191 - mae: 8.7191\n",
            "Epoch 13/100\n",
            "1/1 [==============================] - 0s 6ms/step - loss: 8.7119 - mae: 8.7119\n",
            "Epoch 14/100\n",
            "1/1 [==============================] - 0s 6ms/step - loss: 8.7048 - mae: 8.7048\n",
            "Epoch 15/100\n",
            "1/1 [==============================] - 0s 6ms/step - loss: 8.6976 - mae: 8.6976\n",
            "Epoch 16/100\n",
            "1/1 [==============================] - 0s 6ms/step - loss: 8.6925 - mae: 8.6925\n",
            "Epoch 17/100\n",
            "1/1 [==============================] - 0s 12ms/step - loss: 8.6927 - mae: 8.6927\n",
            "Epoch 18/100\n",
            "1/1 [==============================] - 0s 11ms/step - loss: 8.6855 - mae: 8.6855\n",
            "Epoch 19/100\n",
            "1/1 [==============================] - 0s 8ms/step - loss: 8.6784 - mae: 8.6784\n",
            "Epoch 20/100\n",
            "1/1 [==============================] - 0s 8ms/step - loss: 8.6712 - mae: 8.6712\n",
            "Epoch 21/100\n",
            "1/1 [==============================] - 0s 10ms/step - loss: 8.6640 - mae: 8.6640\n",
            "Epoch 22/100\n",
            "1/1 [==============================] - 0s 17ms/step - loss: 8.6569 - mae: 8.6569\n",
            "Epoch 23/100\n",
            "1/1 [==============================] - 0s 6ms/step - loss: 8.6497 - mae: 8.6497\n",
            "Epoch 24/100\n",
            "1/1 [==============================] - 0s 6ms/step - loss: 8.6426 - mae: 8.6426\n",
            "Epoch 25/100\n",
            "1/1 [==============================] - 0s 13ms/step - loss: 8.6354 - mae: 8.6354\n",
            "Epoch 26/100\n",
            "1/1 [==============================] - 0s 7ms/step - loss: 8.6282 - mae: 8.6282\n",
            "Epoch 27/100\n",
            "1/1 [==============================] - 0s 7ms/step - loss: 8.6211 - mae: 8.6211\n",
            "Epoch 28/100\n",
            "1/1 [==============================] - 0s 6ms/step - loss: 8.6169 - mae: 8.6169\n",
            "Epoch 29/100\n",
            "1/1 [==============================] - 0s 7ms/step - loss: 8.6161 - mae: 8.6161\n",
            "Epoch 30/100\n",
            "1/1 [==============================] - 0s 6ms/step - loss: 8.6090 - mae: 8.6090\n",
            "Epoch 31/100\n",
            "1/1 [==============================] - 0s 8ms/step - loss: 8.6018 - mae: 8.6018\n",
            "Epoch 32/100\n",
            "1/1 [==============================] - 0s 6ms/step - loss: 8.5947 - mae: 8.5947\n",
            "Epoch 33/100\n",
            "1/1 [==============================] - 0s 7ms/step - loss: 8.5875 - mae: 8.5875\n",
            "Epoch 34/100\n",
            "1/1 [==============================] - 0s 11ms/step - loss: 8.5803 - mae: 8.5803\n",
            "Epoch 35/100\n",
            "1/1 [==============================] - 0s 7ms/step - loss: 8.5732 - mae: 8.5732\n",
            "Epoch 36/100\n",
            "1/1 [==============================] - 0s 7ms/step - loss: 8.5660 - mae: 8.5660\n",
            "Epoch 37/100\n",
            "1/1 [==============================] - 0s 7ms/step - loss: 8.5589 - mae: 8.5589\n",
            "Epoch 38/100\n",
            "1/1 [==============================] - 0s 7ms/step - loss: 8.5517 - mae: 8.5517\n",
            "Epoch 39/100\n",
            "1/1 [==============================] - 0s 6ms/step - loss: 8.5445 - mae: 8.5445\n",
            "Epoch 40/100\n",
            "1/1 [==============================] - 0s 6ms/step - loss: 8.5414 - mae: 8.5414\n",
            "Epoch 41/100\n",
            "1/1 [==============================] - 0s 6ms/step - loss: 8.5396 - mae: 8.5396\n",
            "Epoch 42/100\n",
            "1/1 [==============================] - 0s 6ms/step - loss: 8.5324 - mae: 8.5324\n",
            "Epoch 43/100\n",
            "1/1 [==============================] - 0s 7ms/step - loss: 8.5253 - mae: 8.5253\n",
            "Epoch 44/100\n",
            "1/1 [==============================] - 0s 6ms/step - loss: 8.5181 - mae: 8.5181\n",
            "Epoch 45/100\n",
            "1/1 [==============================] - 0s 6ms/step - loss: 8.5110 - mae: 8.5110\n",
            "Epoch 46/100\n",
            "1/1 [==============================] - 0s 6ms/step - loss: 8.5038 - mae: 8.5038\n",
            "Epoch 47/100\n",
            "1/1 [==============================] - 0s 6ms/step - loss: 8.4966 - mae: 8.4966\n",
            "Epoch 48/100\n",
            "1/1 [==============================] - 0s 6ms/step - loss: 8.4895 - mae: 8.4895\n",
            "Epoch 49/100\n",
            "1/1 [==============================] - 0s 7ms/step - loss: 8.4823 - mae: 8.4823\n",
            "Epoch 50/100\n",
            "1/1 [==============================] - 0s 6ms/step - loss: 8.4752 - mae: 8.4752\n",
            "Epoch 51/100\n",
            "1/1 [==============================] - 0s 6ms/step - loss: 8.4680 - mae: 8.4680\n",
            "Epoch 52/100\n",
            "1/1 [==============================] - 0s 10ms/step - loss: 8.4658 - mae: 8.4658\n",
            "Epoch 53/100\n",
            "1/1 [==============================] - 0s 8ms/step - loss: 8.4631 - mae: 8.4631\n",
            "Epoch 54/100\n",
            "1/1 [==============================] - 0s 11ms/step - loss: 8.4559 - mae: 8.4559\n",
            "Epoch 55/100\n",
            "1/1 [==============================] - 0s 15ms/step - loss: 8.4487 - mae: 8.4487\n",
            "Epoch 56/100\n",
            "1/1 [==============================] - 0s 9ms/step - loss: 8.4416 - mae: 8.4416\n",
            "Epoch 57/100\n",
            "1/1 [==============================] - 0s 10ms/step - loss: 8.4344 - mae: 8.4344\n",
            "Epoch 58/100\n",
            "1/1 [==============================] - 0s 9ms/step - loss: 8.4273 - mae: 8.4273\n",
            "Epoch 59/100\n",
            "1/1 [==============================] - 0s 9ms/step - loss: 8.4201 - mae: 8.4201\n",
            "Epoch 60/100\n",
            "1/1 [==============================] - 0s 12ms/step - loss: 8.4129 - mae: 8.4129\n",
            "Epoch 61/100\n",
            "1/1 [==============================] - 0s 11ms/step - loss: 8.4058 - mae: 8.4058\n",
            "Epoch 62/100\n",
            "1/1 [==============================] - 0s 7ms/step - loss: 8.3986 - mae: 8.3986\n",
            "Epoch 63/100\n",
            "1/1 [==============================] - 0s 14ms/step - loss: 8.3915 - mae: 8.3915\n",
            "Epoch 64/100\n",
            "1/1 [==============================] - 0s 9ms/step - loss: 8.3903 - mae: 8.3903\n",
            "Epoch 65/100\n",
            "1/1 [==============================] - 0s 16ms/step - loss: 8.3865 - mae: 8.3865\n",
            "Epoch 66/100\n",
            "1/1 [==============================] - 0s 7ms/step - loss: 8.3794 - mae: 8.3794\n",
            "Epoch 67/100\n",
            "1/1 [==============================] - 0s 7ms/step - loss: 8.3722 - mae: 8.3722\n",
            "Epoch 68/100\n",
            "1/1 [==============================] - 0s 6ms/step - loss: 8.3650 - mae: 8.3650\n",
            "Epoch 69/100\n",
            "1/1 [==============================] - 0s 6ms/step - loss: 8.3579 - mae: 8.3579\n",
            "Epoch 70/100\n",
            "1/1 [==============================] - 0s 7ms/step - loss: 8.3507 - mae: 8.3507\n",
            "Epoch 71/100\n",
            "1/1 [==============================] - 0s 7ms/step - loss: 8.3435 - mae: 8.3435\n",
            "Epoch 72/100\n",
            "1/1 [==============================] - 0s 6ms/step - loss: 8.3364 - mae: 8.3364\n",
            "Epoch 73/100\n",
            "1/1 [==============================] - 0s 7ms/step - loss: 8.3292 - mae: 8.3292\n",
            "Epoch 74/100\n",
            "1/1 [==============================] - 0s 7ms/step - loss: 8.3221 - mae: 8.3221\n",
            "Epoch 75/100\n",
            "1/1 [==============================] - 0s 10ms/step - loss: 8.3149 - mae: 8.3149\n",
            "Epoch 76/100\n",
            "1/1 [==============================] - 0s 9ms/step - loss: 8.3147 - mae: 8.3147\n",
            "Epoch 77/100\n",
            "1/1 [==============================] - 0s 7ms/step - loss: 8.3100 - mae: 8.3100\n",
            "Epoch 78/100\n",
            "1/1 [==============================] - 0s 12ms/step - loss: 8.3028 - mae: 8.3028\n",
            "Epoch 79/100\n",
            "1/1 [==============================] - 0s 8ms/step - loss: 8.2956 - mae: 8.2956\n",
            "Epoch 80/100\n",
            "1/1 [==============================] - 0s 9ms/step - loss: 8.2885 - mae: 8.2885\n",
            "Epoch 81/100\n",
            "1/1 [==============================] - 0s 9ms/step - loss: 8.2813 - mae: 8.2813\n",
            "Epoch 82/100\n",
            "1/1 [==============================] - 0s 10ms/step - loss: 8.2742 - mae: 8.2742\n",
            "Epoch 83/100\n",
            "1/1 [==============================] - 0s 11ms/step - loss: 8.2670 - mae: 8.2670\n",
            "Epoch 84/100\n",
            "1/1 [==============================] - 0s 9ms/step - loss: 8.2598 - mae: 8.2598\n",
            "Epoch 85/100\n",
            "1/1 [==============================] - 0s 9ms/step - loss: 8.2527 - mae: 8.2527\n",
            "Epoch 86/100\n",
            "1/1 [==============================] - 0s 10ms/step - loss: 8.2455 - mae: 8.2455\n",
            "Epoch 87/100\n",
            "1/1 [==============================] - 0s 8ms/step - loss: 8.2384 - mae: 8.2384\n",
            "Epoch 88/100\n",
            "1/1 [==============================] - 0s 11ms/step - loss: 8.2392 - mae: 8.2392\n",
            "Epoch 89/100\n",
            "1/1 [==============================] - 0s 8ms/step - loss: 8.2334 - mae: 8.2334\n",
            "Epoch 90/100\n",
            "1/1 [==============================] - 0s 11ms/step - loss: 8.2263 - mae: 8.2263\n",
            "Epoch 91/100\n",
            "1/1 [==============================] - 0s 11ms/step - loss: 8.2191 - mae: 8.2191\n",
            "Epoch 92/100\n",
            "1/1 [==============================] - 0s 18ms/step - loss: 8.2119 - mae: 8.2119\n",
            "Epoch 93/100\n",
            "1/1 [==============================] - 0s 10ms/step - loss: 8.2048 - mae: 8.2048\n",
            "Epoch 94/100\n",
            "1/1 [==============================] - 0s 9ms/step - loss: 8.1976 - mae: 8.1976\n",
            "Epoch 95/100\n",
            "1/1 [==============================] - 0s 9ms/step - loss: 8.1905 - mae: 8.1905\n",
            "Epoch 96/100\n",
            "1/1 [==============================] - 0s 15ms/step - loss: 8.1833 - mae: 8.1833\n",
            "Epoch 97/100\n",
            "1/1 [==============================] - 0s 11ms/step - loss: 8.1761 - mae: 8.1761\n",
            "Epoch 98/100\n",
            "1/1 [==============================] - 0s 7ms/step - loss: 8.1690 - mae: 8.1690\n",
            "Epoch 99/100\n",
            "1/1 [==============================] - 0s 6ms/step - loss: 8.1618 - mae: 8.1618\n",
            "Epoch 100/100\n",
            "1/1 [==============================] - 0s 10ms/step - loss: 8.1636 - mae: 8.1636\n"
          ]
        },
        {
          "data": {
            "text/plain": [
              "<keras.callbacks.History at 0x7f747dddb690>"
            ]
          },
          "execution_count": 40,
          "metadata": {},
          "output_type": "execute_result"
        }
      ],
      "source": [
        "# Etape 1 : Création du modèle\n",
        "model = tf.keras.Sequential()\n",
        "model.add(tf.keras.layers.Dense(1))\n",
        "\n",
        "#Etape 2 : Compiler le modèle\n",
        "model.compile(loss=\"mae\",\n",
        "              optimizer=tf.keras.optimizers.SGD(),\n",
        "              metrics=[\"mae\"])\n",
        "\n",
        "X = tf.expand_dims(X, axis=-1)\n",
        "#3. Entrainement du modèle\n",
        "model.fit(X,y, epochs = 100)"
      ]
    },
    {
      "cell_type": "code",
      "execution_count": null,
      "metadata": {
        "colab": {
          "base_uri": "https://localhost:8080/"
        },
        "id": "Y1OslScVvjv-",
        "outputId": "4786fde5-774d-45e4-f93a-6bd2150d16f8"
      },
      "outputs": [
        {
          "data": {
            "text/plain": [
              "array([[29.83366]], dtype=float32)"
            ]
          },
          "execution_count": 41,
          "metadata": {},
          "output_type": "execute_result"
        }
      ],
      "source": [
        "X_test = [17.0]\n",
        "X_test = tf.expand_dims(X_test, axis =1)\n",
        "model.predict(X_test)"
      ]
    },
    {
      "cell_type": "markdown",
      "metadata": {
        "id": "bUXdC_uKyKxc"
      },
      "source": [
        "Nous remarquons que notre réponse est passée de **29.979296** à **29.63065** Juste en changeant le nombre d'épochs!\n",
        "- Le modèle simple a pu être amélioré rien qu'en l'entrainantb plus longtemps"
      ]
    },
    {
      "cell_type": "markdown",
      "metadata": {
        "id": "_kAsUnRKysa4"
      },
      "source": [
        "### Ajoutons des neurones avant la couche de sortie (couche cachée)"
      ]
    },
    {
      "cell_type": "code",
      "execution_count": null,
      "metadata": {
        "colab": {
          "base_uri": "https://localhost:8080/"
        },
        "id": "W7Fgm6hC0yul",
        "outputId": "1782969d-e7ff-4bdd-d042-be282f33bbaf"
      },
      "outputs": [
        {
          "data": {
            "text/plain": [
              "(<tf.Tensor: shape=(9,), dtype=float64, numpy=array([-9., -6., -3.,  0.,  3.,  6.,  9., 12., 15.])>,\n",
              " <tf.Tensor: shape=(9,), dtype=float64, numpy=array([ 2.,  5.,  8., 11., 14., 17., 20., 23., 26.])>)"
            ]
          },
          "execution_count": 45,
          "metadata": {},
          "output_type": "execute_result"
        }
      ],
      "source": [
        "X,y"
      ]
    },
    {
      "cell_type": "code",
      "execution_count": null,
      "metadata": {
        "colab": {
          "base_uri": "https://localhost:8080/"
        },
        "id": "rKnRdKIwyzUn",
        "outputId": "1e189908-b826-424a-92aa-fa921af464ab"
      },
      "outputs": [
        {
          "data": {
            "text/plain": [
              "<keras.callbacks.History at 0x7f747dc104d0>"
            ]
          },
          "execution_count": 46,
          "metadata": {},
          "output_type": "execute_result"
        }
      ],
      "source": [
        "# Etape 1 : Création du modèle\n",
        "model = tf.keras.Sequential()\n",
        "model.add(tf.keras.layers.Dense(50))\n",
        "model.add(tf.keras.layers.Dense(1))\n",
        "\n",
        "#Etape 2 : Compiler le modèle\n",
        "model.compile(loss=\"mae\",\n",
        "              optimizer=tf.keras.optimizers.SGD(),\n",
        "              metrics=[\"mae\"])\n",
        "\n",
        "X_train = tf.expand_dims(X, axis=-1)\n",
        "y_train = y\n",
        "#3. Entrainement du modèle\n",
        "model.fit(X_train,y_train, epochs = 100, verbose = 0)"
      ]
    },
    {
      "cell_type": "code",
      "execution_count": null,
      "metadata": {
        "colab": {
          "base_uri": "https://localhost:8080/"
        },
        "id": "Qd1Tj7ywzQRN",
        "outputId": "a86a6099-b4f1-4e0b-af64-574429eaf636"
      },
      "outputs": [
        {
          "data": {
            "text/plain": [
              "array([[29.311071]], dtype=float32)"
            ]
          },
          "execution_count": 47,
          "metadata": {},
          "output_type": "execute_result"
        }
      ],
      "source": [
        "X_test = [17.0]\n",
        "X_test = tf.expand_dims(X_test, axis =1)\n",
        "model.predict(X_test)"
      ]
    },
    {
      "cell_type": "markdown",
      "metadata": {
        "id": "JpaEgxao1oH4"
      },
      "source": [
        "Nous remarquons que notre réponse est passée de 29.979296 à 29.63065 Juste en changeant le nombre d'épochs!\n",
        "\n",
        "En rajoutant des neurones nous obtenons **29.263811**, soit un résultat meilleur!\n"
      ]
    },
    {
      "cell_type": "markdown",
      "metadata": {
        "id": "R8w-XTRq2GJM"
      },
      "source": [
        "### Changeons la fonction d'optmisation"
      ]
    },
    {
      "cell_type": "code",
      "execution_count": null,
      "metadata": {
        "colab": {
          "base_uri": "https://localhost:8080/"
        },
        "id": "-Q-gqffY1yg_",
        "outputId": "5076b814-3307-4f72-d09c-cdff8e7d119e"
      },
      "outputs": [
        {
          "data": {
            "text/plain": [
              "<keras.callbacks.History at 0x7f747dc1b490>"
            ]
          },
          "execution_count": 48,
          "metadata": {},
          "output_type": "execute_result"
        }
      ],
      "source": [
        "# Etape 1 : Création du modèle\n",
        "model = tf.keras.Sequential()\n",
        "model.add(tf.keras.layers.Dense(50))\n",
        "model.add(tf.keras.layers.Dense(1))\n",
        "\n",
        "#Etape 2 : Compiler le modèle\n",
        "model.compile(loss=\"mae\",\n",
        "              optimizer=tf.keras.optimizers.Adam(),\n",
        "              metrics=[\"mae\"])\n",
        "\n",
        "X_train = tf.expand_dims(X, axis=-1)\n",
        "y_train = y\n",
        "#3. Entrainement du modèle\n",
        "model.fit(X_train,y_train, epochs = 100, verbose = 0)"
      ]
    },
    {
      "cell_type": "code",
      "execution_count": null,
      "metadata": {
        "colab": {
          "base_uri": "https://localhost:8080/"
        },
        "id": "ZTZQKvE72F43",
        "outputId": "adb2ad56-2599-496b-8d20-83069651724f"
      },
      "outputs": [
        {
          "data": {
            "text/plain": [
              "array([[24.388887]], dtype=float32)"
            ]
          },
          "execution_count": 49,
          "metadata": {},
          "output_type": "execute_result"
        }
      ],
      "source": [
        "X_test = [17.0]\n",
        "X_test = tf.expand_dims(X_test, axis =1)\n",
        "model.predict(X_test)"
      ]
    },
    {
      "cell_type": "markdown",
      "metadata": {
        "id": "mxsEn9Hh2Rz3"
      },
      "source": [
        "Et c'est là que nous voyons que nous sommes pas bon!\n",
        "\n",
        "En effet , le learning rate de base de Adam est de 0,001.\n",
        "- Il est peut-être trop petit, nous allons l'agrandir! (tendre vers 0)"
      ]
    },
    {
      "cell_type": "code",
      "execution_count": null,
      "metadata": {
        "colab": {
          "base_uri": "https://localhost:8080/"
        },
        "id": "mR1dQAWo2J9F",
        "outputId": "63913f0e-b6d4-450e-91ca-c9db1343f3d5"
      },
      "outputs": [
        {
          "data": {
            "text/plain": [
              "<keras.callbacks.History at 0x7f7474306850>"
            ]
          },
          "execution_count": 50,
          "metadata": {},
          "output_type": "execute_result"
        }
      ],
      "source": [
        "# Etape 1 : Création du modèle\n",
        "model = tf.keras.Sequential()\n",
        "model.add(tf.keras.layers.Dense(50))\n",
        "model.add(tf.keras.layers.Dense(1))\n",
        "\n",
        "#Etape 2 : Compiler le modèle\n",
        "model.compile(loss=\"mae\",\n",
        "              optimizer=tf.keras.optimizers.Adam(learning_rate = 0.01),\n",
        "              metrics=[\"mae\"])\n",
        "\n",
        "X_train = tf.expand_dims(X, axis=-1)\n",
        "y_train = y\n",
        "#3. Entrainement du modèle\n",
        "model.fit(X_train,y_train, epochs = 100, verbose = 0)"
      ]
    },
    {
      "cell_type": "code",
      "execution_count": null,
      "metadata": {
        "colab": {
          "base_uri": "https://localhost:8080/"
        },
        "id": "s3zqPdqB2Y5j",
        "outputId": "78b9398c-6399-4e3c-d204-1fa7abf12e4f"
      },
      "outputs": [
        {
          "data": {
            "text/plain": [
              "array([[28.506893]], dtype=float32)"
            ]
          },
          "execution_count": 51,
          "metadata": {},
          "output_type": "execute_result"
        }
      ],
      "source": [
        "X_test = [17.0]\n",
        "X_test = tf.expand_dims(X_test, axis =1)\n",
        "model.predict(X_test)"
      ]
    },
    {
      "cell_type": "markdown",
      "metadata": {
        "id": "kGjvIMXl3IPd"
      },
      "source": [
        "Et biiiim, nous tendons vers les **29** que nous attendons tous!"
      ]
    },
    {
      "cell_type": "markdown",
      "metadata": {
        "id": "pWvL2cxj3ad3"
      },
      "source": [
        "### Que conclure ?"
      ]
    },
    {
      "cell_type": "markdown",
      "metadata": {
        "id": "NYid6TTP3hDw"
      },
      "source": [
        "Nous pouvons en conclure que\n",
        "- Un modèle simple donne une réponse intéressante mais pas assez\n",
        "- L'entrainer sur plus de données ou plus longtemps peut avoir une importance sur la réponse du modèle\n",
        "- La fonction d'optimisation agit sur la façon d'interprétger le fonctionnement du modèle\n",
        " - Choisi sa bonne fonction à du sens!\n",
        "- Ajouter des neurons rend le probleme plus complex, mais plus sensible!"
      ]
    },
    {
      "cell_type": "markdown",
      "metadata": {
        "id": "gbOQ9nKE5I-A"
      },
      "source": [
        "## Evaluons notre modèle"
      ]
    },
    {
      "cell_type": "markdown",
      "metadata": {
        "id": "GD-QLzRVxy3_"
      },
      "source": [
        "Ce que nous avons fait précédement est :\n",
        "1. Construire le modèle;\n",
        "2. Compiler le modèle;\n",
        "3. Entrainer le modèle;\n",
        "4. Tester le modèle;\n",
        "5. Modifier le modèle;\n",
        "6. Entrainer le modèle;\n",
        "7. Tester le modèle;\n",
        "8. Modifier le modèle;\n",
        "9. Entrainer le modèle;\n",
        "....\n",
        "Je crois que vous avez compris.\n",
        "\n",
        "Et ce jusqu'à ce que le modèle de réseau de neurone atteigne une valeur qui nous convie.\n",
        "\n"
      ]
    },
    {
      "cell_type": "markdown",
      "metadata": {
        "id": "Y9iHGrd2z_B8"
      },
      "source": [
        "### Visualiser"
      ]
    },
    {
      "cell_type": "markdown",
      "metadata": {
        "id": "jFsW0Cp80CeF"
      },
      "source": [
        "Quand on parle d'évaluation, il faut que vous puissier visualier les choses.\n",
        "\n",
        "Visualiser signifie\n",
        "1. **Visualiser les données** : Quelle sont-elles? Avec quoi je travaille ?\n",
        "2. **Visualiser le modèle** : A quoi ressemble-t-il?\n",
        "3. **Visualiser l'entraineement** : Et sa réponse, ses metrics.\n",
        "4. **Visualiser la prédiction** pour permettre ainsi un ajustement éventuel."
      ]
    },
    {
      "cell_type": "code",
      "execution_count": null,
      "metadata": {
        "colab": {
          "base_uri": "https://localhost:8080/"
        },
        "id": "ZkzOsoWl2ljB",
        "outputId": "34ef75b2-959e-4994-a7e5-affee4a4550e"
      },
      "outputs": [
        {
          "data": {
            "text/plain": [
              "(<tf.Tensor: shape=(68,), dtype=int32, numpy=\n",
              " array([-102,  -99,  -96,  -93,  -90,  -87,  -84,  -81,  -78,  -75,  -72,\n",
              "         -69,  -66,  -63,  -60,  -57,  -54,  -51,  -48,  -45,  -42,  -39,\n",
              "         -36,  -33,  -30,  -27,  -24,  -21,  -18,  -15,  -12,   -9,   -6,\n",
              "          -3,    0,    3,    6,    9,   12,   15,   18,   21,   24,   27,\n",
              "          30,   33,   36,   39,   42,   45,   48,   51,   54,   57,   60,\n",
              "          63,   66,   69,   72,   75,   78,   81,   84,   87,   90,   93,\n",
              "          96,   99], dtype=int32)>,\n",
              " <tf.Tensor: shape=(68,), dtype=int32, numpy=\n",
              " array([-91, -88, -85, -82, -79, -76, -73, -70, -67, -64, -61, -58, -55,\n",
              "        -52, -49, -46, -43, -40, -37, -34, -31, -28, -25, -22, -19, -16,\n",
              "        -13, -10,  -7,  -4,  -1,   2,   5,   8,  11,  14,  17,  20,  23,\n",
              "         26,  29,  32,  35,  38,  41,  44,  47,  50,  53,  56,  59,  62,\n",
              "         65,  68,  71,  74,  77,  80,  83,  86,  89,  92,  95,  98, 101,\n",
              "        104, 107, 110], dtype=int32)>)"
            ]
          },
          "execution_count": 161,
          "metadata": {},
          "output_type": "execute_result"
        }
      ],
      "source": [
        "X = tf.range(-102,102,3)\n",
        "y = X+11\n",
        "X, y"
      ]
    },
    {
      "cell_type": "code",
      "execution_count": null,
      "metadata": {
        "colab": {
          "base_uri": "https://localhost:8080/",
          "height": 282
        },
        "id": "oGsd-ecj3NnM",
        "outputId": "86496051-b2ff-4a09-c14a-d49251e98a5b"
      },
      "outputs": [
        {
          "data": {
            "text/plain": [
              "<matplotlib.collections.PathCollection at 0x7f746750a1d0>"
            ]
          },
          "execution_count": 162,
          "metadata": {},
          "output_type": "execute_result"
        },
        {
          "data": {
            "image/png": "[encoded data removed]",
            "text/plain": [
              "<Figure size 432x288 with 1 Axes>"
            ]
          },
          "metadata": {},
          "output_type": "display_data"
        }
      ],
      "source": [
        "plt.scatter(X,y)"
      ]
    },
    {
      "cell_type": "markdown",
      "metadata": {
        "id": "Fb3p2UwA1Gyx"
      },
      "source": [
        "### Les trois datasets"
      ]
    },
    {
      "cell_type": "markdown",
      "metadata": {
        "id": "xd2jEL9w1NG0"
      },
      "source": [
        "Quand nous parlons des trois datasets, nous avons \n",
        "1. **La Training Set** : Correspondant à 70-80% des données environs\n",
        "2. **La Validation Set** : Correspondant au 10-15% des données suivantes. \n",
        "3. **Le Test Set** : Correspondantaux données à tester. Ceci correspond à 10-15% des données totales.\n",
        "\n",
        "**ATTENTION** : les données contenues dans l'évaluation et le test ne peuvent pas être identique aux training set!\n",
        "\n",
        "On n'évalue ni ne test un modèle sur les données d'entrainement!"
      ]
    },
    {
      "cell_type": "code",
      "execution_count": null,
      "metadata": {
        "colab": {
          "base_uri": "https://localhost:8080/"
        },
        "id": "W1cJzKsuzzT1",
        "outputId": "c9c41129-e1d7-43f5-e382-c03d8b01eb9c"
      },
      "outputs": [
        {
          "data": {
            "text/plain": [
              "68"
            ]
          },
          "execution_count": 61,
          "metadata": {},
          "output_type": "execute_result"
        }
      ],
      "source": [
        "len(X)"
      ]
    },
    {
      "cell_type": "code",
      "execution_count": null,
      "metadata": {
        "colab": {
          "base_uri": "https://localhost:8080/"
        },
        "id": "E-XccxBy2hgR",
        "outputId": "ab0f9211-61e2-463f-af31-78ec2218e463"
      },
      "outputs": [
        {
          "data": {
            "text/plain": [
              "(54, 14, 54, 14)"
            ]
          },
          "execution_count": 163,
          "metadata": {},
          "output_type": "execute_result"
        }
      ],
      "source": [
        "#Splittons les datas en Train et Test\n",
        "X_Train = X[:54]\n",
        "X_Test = X[54:]\n",
        "\n",
        "y_Train = y[:54]\n",
        "y_Test = y[54:]\n",
        "\n",
        "len(X_Train), len(X_Test),len(y_Train), len(y_Test)"
      ]
    },
    {
      "cell_type": "markdown",
      "metadata": {
        "id": "ZnEvyWW43kka"
      },
      "source": [
        ""
      ]
    },
    {
      "cell_type": "markdown",
      "metadata": {
        "id": "_0lyU4ek3oCA"
      },
      "source": [
        ""
      ]
    },
    {
      "cell_type": "markdown",
      "metadata": {
        "id": "ivsiVC4H3pEM"
      },
      "source": [
        "### Visualisation les données d'entrainement et de test\n"
      ]
    },
    {
      "cell_type": "code",
      "execution_count": null,
      "metadata": {
        "colab": {
          "base_uri": "https://localhost:8080/",
          "height": 445
        },
        "id": "htSx7dRa2ulC",
        "outputId": "034ea1cd-c81f-4072-9c38-c2a1f43f0ff4"
      },
      "outputs": [
        {
          "data": {
            "text/plain": [
              "<matplotlib.legend.Legend at 0x7f7467210e90>"
            ]
          },
          "execution_count": 164,
          "metadata": {},
          "output_type": "execute_result"
        },
        {
          "data": {
            "image/png": "[encoded data removed]",
            "text/plain": [
              "<Figure size 720x504 with 1 Axes>"
            ]
          },
          "metadata": {},
          "output_type": "display_data"
        }
      ],
      "source": [
        "plt.figure(figsize=(10,7))\n",
        "plt.scatter(X_Train, y_Train, c='b', label='Train Data')\n",
        "plt.scatter(X_Test, y_Test, c='g', label='Test Data')\n",
        "plt.legend(loc='best')"
      ]
    },
    {
      "cell_type": "markdown",
      "metadata": {
        "id": "O7cSFSLw5AYb"
      },
      "source": [
        "Construisons donc le modèle sur les données d'entrainement."
      ]
    },
    {
      "cell_type": "code",
      "execution_count": null,
      "metadata": {
        "id": "_6VrHIYb4Ddv"
      },
      "outputs": [],
      "source": [
        "# Etape 1 : Création du modèle\n",
        "model = tf.keras.Sequential()\n",
        "model.add(tf.keras.layers.Dense(1))\n",
        "\n",
        "#Etape 2 : Compiler le modèle\n",
        "model.compile(loss=\"mae\",\n",
        "              optimizer=tf.keras.optimizers.SGD(),\n",
        "              metrics=[\"mae\"])\n",
        "\n",
        "X_train = tf.expand_dims(X_Train, axis=-1)\n",
        "y_train = y_Train\n",
        "#3. Entrainement du modèle\n",
        "#model.fit(X_train,y_train, epochs = 100, verbose = 1)"
      ]
    },
    {
      "cell_type": "markdown",
      "metadata": {
        "id": "hP1nXJAa5IQx"
      },
      "source": [
        "### Visualisons le modèle"
      ]
    },
    {
      "cell_type": "markdown",
      "metadata": {
        "id": "LL5Q-52M5Hx3"
      },
      "source": [
        ""
      ]
    },
    {
      "cell_type": "code",
      "execution_count": null,
      "metadata": {
        "colab": {
          "base_uri": "https://localhost:8080/",
          "height": 317
        },
        "id": "3FM9GFoL5NUO",
        "outputId": "2737ead1-c8c0-4c6d-f119-7ad658717425"
      },
      "outputs": [
        {
          "ename": "ValueError",
          "evalue": "ignored",
          "output_type": "error",
          "traceback": [
            "\u001b[0;31m---------------------------------------------------------------------------\u001b[0m",
            "\u001b[0;31mValueError\u001b[0m                                Traceback (most recent call last)",
            "\u001b[0;32m<ipython-input-72-5f15418b3570>\u001b[0m in \u001b[0;36m<module>\u001b[0;34m()\u001b[0m\n\u001b[0;32m----> 1\u001b[0;31m \u001b[0mmodel\u001b[0m\u001b[0;34m.\u001b[0m\u001b[0msummary\u001b[0m\u001b[0;34m(\u001b[0m\u001b[0;34m)\u001b[0m\u001b[0;34m\u001b[0m\u001b[0;34m\u001b[0m\u001b[0m\n\u001b[0m",
            "\u001b[0;32m/usr/local/lib/python3.7/dist-packages/keras/engine/training.py\u001b[0m in \u001b[0;36msummary\u001b[0;34m(self, line_length, positions, print_fn, expand_nested, show_trainable)\u001b[0m\n\u001b[1;32m   2774\u001b[0m     \u001b[0;32mif\u001b[0m \u001b[0;32mnot\u001b[0m \u001b[0mself\u001b[0m\u001b[0;34m.\u001b[0m\u001b[0mbuilt\u001b[0m\u001b[0;34m:\u001b[0m\u001b[0;34m\u001b[0m\u001b[0;34m\u001b[0m\u001b[0m\n\u001b[1;32m   2775\u001b[0m       raise ValueError(\n\u001b[0;32m-> 2776\u001b[0;31m           \u001b[0;34m'This model has not yet been built. '\u001b[0m\u001b[0;34m\u001b[0m\u001b[0;34m\u001b[0m\u001b[0m\n\u001b[0m\u001b[1;32m   2777\u001b[0m           \u001b[0;34m'Build the model first by calling `build()` or by calling '\u001b[0m\u001b[0;34m\u001b[0m\u001b[0;34m\u001b[0m\u001b[0m\n\u001b[1;32m   2778\u001b[0m           'the model on a batch of data.')\n",
            "\u001b[0;31mValueError\u001b[0m: This model has not yet been built. Build the model first by calling `build()` or by calling the model on a batch of data."
          ]
        }
      ],
      "source": [
        "model.summary()"
      ]
    },
    {
      "cell_type": "markdown",
      "metadata": {
        "id": "4cZ8HVFt5-9f"
      },
      "source": [
        "**ATTENTION** - Impossible de visualiser le modèle car le lodèle ne sait pas combien il y de données d'entrées.\n",
        "\n",
        "Pour les connaitre rapellons-nous \n",
        "- Une données X prédit une donnée y\n",
        "nous pouvons dire que :\n",
        "\n",
        "La donnée d'entrée est égale à 1\n",
        "\n",
        "Relançons le modele"
      ]
    },
    {
      "cell_type": "code",
      "execution_count": null,
      "metadata": {
        "id": "qvz2zjkA5REv"
      },
      "outputs": [],
      "source": [
        "# Etape 1 : Création du modèle\n",
        "model = tf.keras.Sequential()\n",
        "model.add(tf.keras.layers.Dense(1, input_shape=[1]))\n",
        "\n",
        "#Etape 2 : Compiler le modèle\n",
        "model.compile(loss=\"mae\",\n",
        "              optimizer=tf.keras.optimizers.SGD(),\n",
        "              metrics=[\"mae\"])\n",
        "\n",
        "X_train = tf.expand_dims(X_Train, axis=-1)\n",
        "y_train = y_Train\n",
        "#3. Entrainement du modèle\n",
        "#model.fit(X_train,y_train, epochs = 100, verbose = 1)"
      ]
    },
    {
      "cell_type": "code",
      "execution_count": null,
      "metadata": {
        "colab": {
          "base_uri": "https://localhost:8080/"
        },
        "id": "P7VJuBAv6XO4",
        "outputId": "b41367b7-f35b-441e-9d03-a341c015ff4d"
      },
      "outputs": [
        {
          "name": "stdout",
          "output_type": "stream",
          "text": [
            "Model: \"sequential_14\"\n",
            "_________________________________________________________________\n",
            " Layer (type)                Output Shape              Param #   \n",
            "=================================================================\n",
            " dense_18 (Dense)            (None, 1)                 2         \n",
            "                                                                 \n",
            "=================================================================\n",
            "Total params: 2\n",
            "Trainable params: 2\n",
            "Non-trainable params: 0\n",
            "_________________________________________________________________\n"
          ]
        }
      ],
      "source": [
        "model.summary()\n"
      ]
    },
    {
      "cell_type": "markdown",
      "metadata": {
        "id": "o_doieUz6s-z"
      },
      "source": [
        "Que voyons-nous?\n",
        "1. **Total params** : nombre de parametres des neurones. (Poids et biais des neurones)\n",
        "2. **Trainable params** : nombre de paramètres entrainables du modèle.\n",
        "3. **Non-trainable params** : nombre de paramètres impossible à entrainer dans le modèle. On retrouve ces paramètres typiquement dans le **transfert learning**"
      ]
    },
    {
      "cell_type": "code",
      "execution_count": null,
      "metadata": {
        "colab": {
          "base_uri": "https://localhost:8080/"
        },
        "id": "ITQEkX-l6o89",
        "outputId": "a40b34e4-90ab-41d1-d181-a2f6d139b0c8"
      },
      "outputs": [
        {
          "data": {
            "text/plain": [
              "<keras.callbacks.History at 0x7f747292b410>"
            ]
          },
          "execution_count": 96,
          "metadata": {},
          "output_type": "execute_result"
        }
      ],
      "source": [
        "model.fit(X_train, y_train, epochs = 100, verbose = 0)"
      ]
    },
    {
      "cell_type": "markdown",
      "metadata": {
        "id": "ND2Ttn4ZDG61"
      },
      "source": [
        "### Visualiser son modèle"
      ]
    },
    {
      "cell_type": "code",
      "execution_count": null,
      "metadata": {
        "colab": {
          "base_uri": "https://localhost:8080/",
          "height": 201
        },
        "id": "5IroJOqcBu5G",
        "outputId": "86cdc8ef-5f43-48ab-e09c-9ef83053ee09"
      },
      "outputs": [
        {
          "data": {
            "image/png": "[encoded data removed]",
            "text/plain": [
              "<IPython.core.display.Image object>"
            ]
          },
          "execution_count": 97,
          "metadata": {},
          "output_type": "execute_result"
        }
      ],
      "source": [
        "from tensorflow.keras.utils import plot_model\n",
        "\n",
        "plot_model(model = model, show_shapes = True)"
      ]
    },
    {
      "cell_type": "markdown",
      "metadata": {
        "id": "qyGRGq5LDJs2"
      },
      "source": [
        "### Nommer son modèle"
      ]
    },
    {
      "cell_type": "markdown",
      "metadata": {
        "id": "6-rykKtHDQ9X"
      },
      "source": [
        "Si on construit son modèle, nous pouvons très bien nommer son modèle et ainsi le retrouver plus facilement.\n",
        "\n",
        "- L'argument est \"Name\" dans la construction du modèle"
      ]
    },
    {
      "cell_type": "code",
      "execution_count": null,
      "metadata": {
        "colab": {
          "base_uri": "https://localhost:8080/",
          "height": 587
        },
        "id": "Ec4Pzq25CMRw",
        "outputId": "edbf7386-3ada-4c43-a415-25ac37e9b425"
      },
      "outputs": [
        {
          "name": "stdout",
          "output_type": "stream",
          "text": [
            "Model: \"model_1\"\n",
            "_________________________________________________________________\n",
            " Layer (type)                Output Shape              Param #   \n",
            "=================================================================\n",
            " Input_Layer (Dense)         (None, 10)                20        \n",
            "                                                                 \n",
            " Output_Layer (Dense)        (None, 1)                 11        \n",
            "                                                                 \n",
            "=================================================================\n",
            "Total params: 31\n",
            "Trainable params: 31\n",
            "Non-trainable params: 0\n",
            "_________________________________________________________________\n"
          ]
        },
        {
          "name": "stderr",
          "output_type": "stream",
          "text": [
            "/usr/local/lib/python3.7/dist-packages/keras/optimizer_v2/adam.py:105: UserWarning: The `lr` argument is deprecated, use `learning_rate` instead.\n",
            "  super(Adam, self).__init__(name, **kwargs)\n"
          ]
        },
        {
          "data": {
            "image/png": "[encoded data removed]",
            "text/plain": [
              "<IPython.core.display.Image object>"
            ]
          },
          "execution_count": 165,
          "metadata": {},
          "output_type": "execute_result"
        }
      ],
      "source": [
        "# Etape 1 : Création du modèle\n",
        "model = tf.keras.Sequential(name = \"model_1\")\n",
        "model.add(tf.keras.layers.Dense(10, input_shape=[1], name = \"Input_Layer\"))\n",
        "model.add(tf.keras.layers.Dense(1, name = \"Output_Layer\"))\n",
        "\n",
        "#Etape 2 : Compiler le modèle\n",
        "model.compile(loss=\"mae\",\n",
        "              optimizer=tf.keras.optimizers.Adam(lr = 0.01),\n",
        "              metrics=[\"mae\"])\n",
        "\n",
        "X_train = tf.expand_dims(X_Train, axis=-1)\n",
        "y_train = y_Train\n",
        "\n",
        "#3. Visualisation des parametres du modèle\n",
        "model.summary()\n",
        "#4. Entrainement du modèle\n",
        "model.fit(X_Train,y_Train, epochs = 100, verbose = 0)\n",
        "\n",
        "#5 Visualisation du modèle\n",
        "plot_model(model = model, show_shapes = True)"
      ]
    },
    {
      "cell_type": "markdown",
      "metadata": {
        "id": "HEMGEyThDpB5"
      },
      "source": [
        "Au dessus, nous pouvons voir : **Model** avec le nom que nous lui avons donné.\n",
        "\n",
        "Aussi, chacune des couches peut être renommée."
      ]
    },
    {
      "cell_type": "markdown",
      "metadata": {
        "id": "WEbfL1cTFMyb"
      },
      "source": [
        "### Visualiser la prédiction du modèle"
      ]
    },
    {
      "cell_type": "markdown",
      "metadata": {
        "id": "v0fz1qUeF5m9"
      },
      "source": [
        "**ATTENTION**, il faut bien distinguer `y_test`de `y_pred``.\n",
        "En effet, nous avons défini `y_test``précédement.\n",
        "\n",
        "`y_pred`servira dès lors à voir si le modèle arrive à retrouver les données de `y_test`"
      ]
    },
    {
      "cell_type": "code",
      "execution_count": null,
      "metadata": {
        "colab": {
          "base_uri": "https://localhost:8080/"
        },
        "id": "dHoKP3DrFqke",
        "outputId": "205ce331-5af3-40ea-a958-5ea54a5e15b6"
      },
      "outputs": [
        {
          "data": {
            "text/plain": [
              "array([[ 69.92369 ],\n",
              "       [ 72.85331 ],\n",
              "       [ 75.78292 ],\n",
              "       [ 78.71254 ],\n",
              "       [ 81.642166],\n",
              "       [ 84.571785],\n",
              "       [ 87.50139 ],\n",
              "       [ 90.431015],\n",
              "       [ 93.36064 ],\n",
              "       [ 96.29027 ],\n",
              "       [ 99.21988 ],\n",
              "       [102.14949 ],\n",
              "       [105.079094],\n",
              "       [108.00873 ]], dtype=float32)"
            ]
          },
          "execution_count": 166,
          "metadata": {},
          "output_type": "execute_result"
        }
      ],
      "source": [
        "y_pred = model.predict(X_Test)\n",
        "y_pred"
      ]
    },
    {
      "cell_type": "markdown",
      "metadata": {
        "id": "rAGxSrb5Fj47"
      },
      "source": [
        "- `y_pred` est donc la réponse du modèle pour X_Test.\n",
        "- Si tout va bien ``y_pred``et `y_test` devront être proche de l'autre"
      ]
    },
    {
      "cell_type": "code",
      "execution_count": null,
      "metadata": {
        "colab": {
          "base_uri": "https://localhost:8080/"
        },
        "id": "P-ApLuDiHhxI",
        "outputId": "2956b0ee-4af5-486c-a2a4-b648411a493c"
      },
      "outputs": [
        {
          "data": {
            "text/plain": [
              "<tf.Tensor: shape=(14,), dtype=int32, numpy=\n",
              "array([ 71,  74,  77,  80,  83,  86,  89,  92,  95,  98, 101, 104, 107,\n",
              "       110], dtype=int32)>"
            ]
          },
          "execution_count": 167,
          "metadata": {},
          "output_type": "execute_result"
        }
      ],
      "source": [
        "y_Test"
      ]
    },
    {
      "cell_type": "code",
      "execution_count": null,
      "metadata": {
        "colab": {
          "base_uri": "https://localhost:8080/"
        },
        "id": "4Vdx1vqgEkOm",
        "outputId": "3c1cb6c2-3d9c-48df-ba5f-1d26e44469a2"
      },
      "outputs": [
        {
          "data": {
            "text/plain": [
              "(14, 14)"
            ]
          },
          "execution_count": 168,
          "metadata": {},
          "output_type": "execute_result"
        }
      ],
      "source": [
        "len(y_Test), len(y_pred)"
      ]
    },
    {
      "cell_type": "code",
      "execution_count": null,
      "metadata": {
        "id": "8yicic4WHcBj"
      },
      "outputs": [],
      "source": [
        "#visualisons les données\n",
        "def Visualisation_data(train_data = X_Train, train_label = y_Train, test_data = X_Test, test_label = y_Test, pred_label = y_pred):\n",
        "  plt.figure(figsize=(10,7))\n",
        "  plt.scatter(X_Train,y_Train, c='b', label = 'Train Data')\n",
        "  plt.scatter(X_Test,y_Test, c='g', label = 'Test Data')\n",
        "  plt.scatter(X_Test,y_pred, c='r', label = 'Pred Data')\n",
        "\n",
        "  plt.legend(loc='best')\n"
      ]
    },
    {
      "cell_type": "code",
      "execution_count": null,
      "metadata": {
        "colab": {
          "base_uri": "https://localhost:8080/",
          "height": 428
        },
        "id": "cq2K7tsiJg6s",
        "outputId": "c2ead918-3ca6-48fe-ecb9-7cd64ac72b46"
      },
      "outputs": [
        {
          "data": {
            "image/png": "[encoded data removed]",
            "text/plain": [
              "<Figure size 720x504 with 1 Axes>"
            ]
          },
          "metadata": {},
          "output_type": "display_data"
        }
      ],
      "source": [
        "Visualisation_data()"
      ]
    },
    {
      "cell_type": "markdown",
      "metadata": {
        "id": "VSzWsZ4eJ0Lf"
      },
      "source": [
        "La **prediction** n'est pas si mal !"
      ]
    },
    {
      "cell_type": "markdown",
      "metadata": {
        "id": "CI0nh6-3KlG2"
      },
      "source": [
        "### Evaluons notre modèle avec la métric d'évaluation"
      ]
    },
    {
      "cell_type": "markdown",
      "metadata": {
        "id": "u19sgu7mKucs"
      },
      "source": [
        "Les métriques d'évaluations peuvent donner des réponses différentes en fonction de ce que l'on cherche \n",
        "- **MAE** - Mean Absolue Error\n",
        "- **MSE** - Mean Squared Error\n",
        "- **RMSE** - Root Mean Squared Error\n",
        "- **Il en existe bien d'autres!**"
      ]
    },
    {
      "cell_type": "code",
      "execution_count": null,
      "metadata": {
        "colab": {
          "base_uri": "https://localhost:8080/"
        },
        "id": "Ce80FeS9J4KT",
        "outputId": "6626bfe1-4d8e-46ad-b0d5-37fb90f5d18c"
      },
      "outputs": [
        {
          "name": "stdout",
          "output_type": "stream",
          "text": [
            "1/1 [==============================] - 0s 99ms/step - loss: 1.5338 - mae: 1.5338\n"
          ]
        },
        {
          "data": {
            "text/plain": [
              "[1.5337905883789062, 1.5337905883789062]"
            ]
          },
          "execution_count": 171,
          "metadata": {},
          "output_type": "execute_result"
        }
      ],
      "source": [
        "#Evaluons le modèle sur les données de Test\n",
        "model.evaluate(X_Test, y_Test)"
      ]
    },
    {
      "cell_type": "code",
      "execution_count": null,
      "metadata": {
        "colab": {
          "base_uri": "https://localhost:8080/"
        },
        "id": "3Zt_SCk0R4fR",
        "outputId": "95b5be18-5aeb-4b56-8129-c8268039debb"
      },
      "outputs": [
        {
          "data": {
            "text/plain": [
              "<tf.Tensor: shape=(14,), dtype=float32, numpy=\n",
              "array([20.57631  , 17.91145  , 15.655057 , 13.80712  , 12.367643 ,\n",
              "       11.336633 , 10.7140875, 10.5      , 10.694377 , 11.297219 ,\n",
              "       12.308519 , 13.72828  , 15.556496 , 17.793196 ], dtype=float32)>"
            ]
          },
          "execution_count": 172,
          "metadata": {},
          "output_type": "execute_result"
        }
      ],
      "source": [
        "# Calculons le MAE sur les données de prediction!\n",
        "mae = tf.metrics.mean_absolute_error(y_true = y_Test, y_pred = y_pred)\n",
        "mae"
      ]
    },
    {
      "cell_type": "markdown",
      "metadata": {
        "id": "lPFZ420WTadv"
      },
      "source": [
        "Nous remarquons que les différences sont grande, hors, nous avons vu dans le graph ci-avant que les différences étaient faible.\n",
        "- Il y a quelque chose qui ne va pas!"
      ]
    },
    {
      "cell_type": "code",
      "execution_count": null,
      "metadata": {
        "colab": {
          "base_uri": "https://localhost:8080/"
        },
        "id": "KPB7HJV8TR2y",
        "outputId": "64b6da2e-64c9-40be-ebf7-ce063b63eab7"
      },
      "outputs": [
        {
          "data": {
            "text/plain": [
              "(TensorShape([14]), (14, 1))"
            ]
          },
          "execution_count": 173,
          "metadata": {},
          "output_type": "execute_result"
        }
      ],
      "source": [
        "y_Test.shape, y_pred.shape"
      ]
    },
    {
      "cell_type": "code",
      "execution_count": null,
      "metadata": {
        "colab": {
          "base_uri": "https://localhost:8080/"
        },
        "id": "awjNF6feTEIQ",
        "outputId": "5ed7cc38-4a08-4637-8506-ed72ae0070ff"
      },
      "outputs": [
        {
          "data": {
            "text/plain": [
              "(1, 2)"
            ]
          },
          "execution_count": 174,
          "metadata": {},
          "output_type": "execute_result"
        }
      ],
      "source": [
        "np.ndim(y_Test), np.ndim(y_pred)"
      ]
    },
    {
      "cell_type": "markdown",
      "metadata": {
        "id": "FreKTyuITu4X"
      },
      "source": [
        "**ATTENTION AUX FORMES DES MATRICES!!!**\n",
        "- y_Test est un tenseur\n",
        "- y_pred est un tableau numpy...de dimension 2\n",
        "\n",
        "Il faudra donc les mettre dans les dimensions et forme identiques."
      ]
    },
    {
      "cell_type": "code",
      "execution_count": null,
      "metadata": {
        "id": "pKhN5WiqTNdm"
      },
      "outputs": [],
      "source": [
        "#tf.squeeze() permet de réduire la dimension de 1 de ce qu'on lui rentre \n",
        "y_pred = tf.squeeze(y_pred)"
      ]
    },
    {
      "cell_type": "code",
      "execution_count": null,
      "metadata": {
        "colab": {
          "base_uri": "https://localhost:8080/"
        },
        "id": "fcnudmwDVbLC",
        "outputId": "e114d507-ef8a-4a5e-ba6c-b87aa8e169fe"
      },
      "outputs": [
        {
          "data": {
            "text/plain": [
              "(TensorShape([14]), TensorShape([14]))"
            ]
          },
          "execution_count": 176,
          "metadata": {},
          "output_type": "execute_result"
        }
      ],
      "source": [
        "y_Test.shape, y_pred.shape"
      ]
    },
    {
      "cell_type": "code",
      "execution_count": null,
      "metadata": {
        "colab": {
          "base_uri": "https://localhost:8080/"
        },
        "id": "JaN2NB2xVdTj",
        "outputId": "69a60268-8d95-4148-c1cb-ebbf80db1c6c"
      },
      "outputs": [
        {
          "data": {
            "text/plain": [
              "<tf.Tensor: shape=(), dtype=float32, numpy=1.5337917>"
            ]
          },
          "execution_count": 177,
          "metadata": {},
          "output_type": "execute_result"
        }
      ],
      "source": [
        "mae = tf.metrics.mean_absolute_error(y_true = y_Test, y_pred = y_pred)\n",
        "mae"
      ]
    },
    {
      "cell_type": "markdown",
      "metadata": {
        "id": "Qq3bwG1KWWVg"
      },
      "source": [
        "Le **mae** est donc de **1.7371722**, ce qui est un bon score"
      ]
    },
    {
      "cell_type": "code",
      "execution_count": null,
      "metadata": {
        "colab": {
          "base_uri": "https://localhost:8080/"
        },
        "id": "m6oj9AAfVn10",
        "outputId": "4c69c732-9ec3-4247-fe5d-3748acc7f946"
      },
      "outputs": [
        {
          "data": {
            "text/plain": [
              "<tf.Tensor: shape=(), dtype=float32, numpy=2.4330127>"
            ]
          },
          "execution_count": 230,
          "metadata": {},
          "output_type": "execute_result"
        }
      ],
      "source": [
        "mse = tf.metrics.mean_squared_error(y_true = y_Test, y_pred = y_pred)\n",
        "mse"
      ]
    },
    {
      "cell_type": "markdown",
      "metadata": {
        "id": "dFEc40QmXpSE"
      },
      "source": [
        "Le **mse** est donc de **3.11594652**, ce qui est un bon score.\n",
        "\n",
        "Nous voyons que les mse et mae sont différentes, ce qui est normal.\n",
        "\n",
        "En effet, les métriques sont construites de façons différentes et ne signifient pas la même chose!"
      ]
    },
    {
      "cell_type": "markdown",
      "metadata": {
        "id": "DYqKdyO2rFq9"
      },
      "source": [
        "#Complexifions le modèle petit à petit"
      ]
    },
    {
      "cell_type": "code",
      "execution_count": null,
      "metadata": {
        "id": "2f2oM1YnuF4w"
      },
      "outputs": [],
      "source": [
        "#importons les données\n",
        "X = tf.range(-102,102,3)\n",
        "y = X+11\n",
        "\n",
        "#Splittons les datas en Train et Test\n",
        "X_Train = X[:54]\n",
        "X_Test = X[54:]\n",
        "\n",
        "y_Train = y[:54]\n",
        "y_Test = y[54:]"
      ]
    },
    {
      "cell_type": "markdown",
      "metadata": {
        "id": "txcaEVQs0_VW"
      },
      "source": [
        "### Model une couche, 100 epochs"
      ]
    },
    {
      "cell_type": "code",
      "execution_count": null,
      "metadata": {
        "colab": {
          "base_uri": "https://localhost:8080/",
          "height": 388
        },
        "id": "rzPlj3ppXnkF",
        "outputId": "8e6ffca3-ee42-4cb7-d811-414600c24b18"
      },
      "outputs": [
        {
          "name": "stdout",
          "output_type": "stream",
          "text": [
            "Model: \"model_1\"\n",
            "_________________________________________________________________\n",
            " Layer (type)                Output Shape              Param #   \n",
            "=================================================================\n",
            " Output_Layer (Dense)        (None, 1)                 2         \n",
            "                                                                 \n",
            "=================================================================\n",
            "Total params: 2\n",
            "Trainable params: 2\n",
            "Non-trainable params: 0\n",
            "_________________________________________________________________\n"
          ]
        },
        {
          "data": {
            "image/png": "[encoded data removed]",
            "text/plain": [
              "<IPython.core.display.Image object>"
            ]
          },
          "execution_count": 246,
          "metadata": {},
          "output_type": "execute_result"
        }
      ],
      "source": [
        "# Etape 1 : Création du modèle\n",
        "model_1 = tf.keras.Sequential(name = \"model_1\")\n",
        "model_1.add(tf.keras.layers.Dense(1, input_shape = [1], name = \"Output_Layer\"))\n",
        "\n",
        "#Etape 2 : Compiler le modèle\n",
        "model_1.compile(loss=\"mae\",\n",
        "              optimizer=tf.keras.optimizers.Adam(),\n",
        "              metrics=[\"mae\"])\n",
        "\n",
        "X_train = tf.expand_dims(X_Train, axis=-1)\n",
        "y_train = y_Train\n",
        "\n",
        "#3. Visualisation des parametres du modèle\n",
        "model_1.summary()\n",
        "#4. Entrainement du modèle\n",
        "model_1.fit(X_Train,y_Train, epochs = 100, verbose = 0)\n",
        "\n",
        "#5 Visualisation du modèle\n",
        "plot_model(model = model_1, show_shapes = True)"
      ]
    },
    {
      "cell_type": "code",
      "execution_count": null,
      "metadata": {
        "id": "OrPLHz5vrgYy"
      },
      "outputs": [],
      "source": [
        "y_pred_1 = model_1.predict(X_Test)"
      ]
    },
    {
      "cell_type": "code",
      "execution_count": null,
      "metadata": {
        "colab": {
          "base_uri": "https://localhost:8080/",
          "height": 428
        },
        "id": "eGKFF0jDsnD1",
        "outputId": "cb937fd7-805b-4165-c1f8-1037733687c4"
      },
      "outputs": [
        {
          "data": {
            "image/png": "[encoded data removed]",
            "text/plain": [
              "<Figure size 720x504 with 1 Axes>"
            ]
          },
          "metadata": {},
          "output_type": "display_data"
        }
      ],
      "source": [
        "Visualisation_data(pred_label = y_pred_1)"
      ]
    },
    {
      "cell_type": "markdown",
      "metadata": {
        "id": "HzGHfSjwtMpi"
      },
      "source": [
        "C'est sympa, mais on voit que le modèle dévie!. On pourrait l'améliorer"
      ]
    },
    {
      "cell_type": "code",
      "execution_count": null,
      "metadata": {
        "colab": {
          "base_uri": "https://localhost:8080/"
        },
        "id": "b5M3sdrltSdu",
        "outputId": "338b98ed-c827-44df-9925-3730cca8720e"
      },
      "outputs": [
        {
          "data": {
            "text/plain": [
              "(<tf.Tensor: shape=(), dtype=float32, numpy=21.08491>,\n",
              " <tf.Tensor: shape=(), dtype=float32, numpy=447.01743>)"
            ]
          },
          "execution_count": 249,
          "metadata": {},
          "output_type": "execute_result"
        }
      ],
      "source": [
        "mae_1 = tf.metrics.mean_absolute_error(y_true = y_Test, y_pred =tf.squeeze(y_pred_1))\n",
        "mse_1 = tf.metrics.mean_squared_error(y_true = y_Test, y_pred = tf.squeeze(y_pred_1))\n",
        "mae_1, mse_1"
      ]
    },
    {
      "cell_type": "markdown",
      "metadata": {
        "id": "aw6YRkulu_xx"
      },
      "source": [
        "## Complexifions le modele"
      ]
    },
    {
      "cell_type": "markdown",
      "metadata": {
        "id": "4RUt5sklvEoM"
      },
      "source": [
        "### 100 epochs et 2 couches neuronales"
      ]
    },
    {
      "cell_type": "code",
      "execution_count": null,
      "metadata": {
        "colab": {
          "base_uri": "https://localhost:8080/",
          "height": 533
        },
        "id": "9Nu0xJ1ntbaE",
        "outputId": "34cfe37b-cc26-4b07-e858-2ae3cdfa6414"
      },
      "outputs": [
        {
          "name": "stdout",
          "output_type": "stream",
          "text": [
            "Model: \"model_2\"\n",
            "_________________________________________________________________\n",
            " Layer (type)                Output Shape              Param #   \n",
            "=================================================================\n",
            " Input_Layer (Dense)         (None, 10)                20        \n",
            "                                                                 \n",
            " Output_Layer (Dense)        (None, 1)                 11        \n",
            "                                                                 \n",
            "=================================================================\n",
            "Total params: 31\n",
            "Trainable params: 31\n",
            "Non-trainable params: 0\n",
            "_________________________________________________________________\n"
          ]
        },
        {
          "data": {
            "image/png": "[encoded data removed]",
            "text/plain": [
              "<IPython.core.display.Image object>"
            ]
          },
          "execution_count": 250,
          "metadata": {},
          "output_type": "execute_result"
        }
      ],
      "source": [
        "# Etape 1 : Création du modèle\n",
        "model_2 = tf.keras.Sequential(name = \"model_2\")\n",
        "model_2.add(tf.keras.layers.Dense(10, input_shape = [1], name = \"Input_Layer\"))\n",
        "model_2.add(tf.keras.layers.Dense(1, name = \"Output_Layer\"))\n",
        "\n",
        "#Etape 2 : Compiler le modèle\n",
        "model_2.compile(loss=\"mae\",\n",
        "              optimizer=tf.keras.optimizers.Adam(),\n",
        "              metrics=[\"mae\"])\n",
        "\n",
        "y_train = y_Train\n",
        "\n",
        "#3. Visualisation des parametres du modèle\n",
        "model_2.summary()\n",
        "#4. Entrainement du modèle\n",
        "model_2.fit(X_Train,y_Train, epochs = 100, verbose = 0)\n",
        "\n",
        "#5 Visualisation du modèle\n",
        "plot_model(model = model_2, show_shapes = True)"
      ]
    },
    {
      "cell_type": "code",
      "execution_count": null,
      "metadata": {
        "id": "8HOCrhMCv4jf"
      },
      "outputs": [],
      "source": [
        "y_pred_2 = model_2.predict(X_Test)"
      ]
    },
    {
      "cell_type": "code",
      "execution_count": null,
      "metadata": {
        "colab": {
          "base_uri": "https://localhost:8080/",
          "height": 428
        },
        "id": "oQSIuE3xv_7r",
        "outputId": "fe29fb6e-4b0b-4381-a155-ac69b27e52b2"
      },
      "outputs": [
        {
          "data": {
            "image/png": "[encoded data removed]",
            "text/plain": [
              "<Figure size 720x504 with 1 Axes>"
            ]
          },
          "metadata": {},
          "output_type": "display_data"
        }
      ],
      "source": [
        "Visualisation_data(pred_label = y_pred_2)"
      ]
    },
    {
      "cell_type": "code",
      "execution_count": null,
      "metadata": {
        "colab": {
          "base_uri": "https://localhost:8080/"
        },
        "id": "nIrIAUv1wIf-",
        "outputId": "73905e99-4c35-4a0a-817f-d2490bcfc981"
      },
      "outputs": [
        {
          "data": {
            "text/plain": [
              "(<tf.Tensor: shape=(), dtype=float32, numpy=19.323837>,\n",
              " <tf.Tensor: shape=(), dtype=float32, numpy=375.45013>)"
            ]
          },
          "execution_count": 253,
          "metadata": {},
          "output_type": "execute_result"
        }
      ],
      "source": [
        "mae_2 = tf.metrics.mean_absolute_error(y_true = y_Test, y_pred = tf.squeeze(y_pred_2))\n",
        "mse_2 = tf.metrics.mean_squared_error(y_true = y_Test, y_pred = tf.squeeze(y_pred_2))\n",
        "mae_2, mse_2"
      ]
    },
    {
      "cell_type": "markdown",
      "metadata": {
        "id": "X9VrH_JA12V7"
      },
      "source": [
        "### Model 2 couches et 500 epochs"
      ]
    },
    {
      "cell_type": "code",
      "execution_count": null,
      "metadata": {
        "colab": {
          "base_uri": "https://localhost:8080/",
          "height": 533
        },
        "id": "b_UFW1DB038j",
        "outputId": "46457fba-c1ca-45c9-b5a2-b0338e7c96cb"
      },
      "outputs": [
        {
          "name": "stdout",
          "output_type": "stream",
          "text": [
            "Model: \"model_3\"\n",
            "_________________________________________________________________\n",
            " Layer (type)                Output Shape              Param #   \n",
            "=================================================================\n",
            " Input_Layer (Dense)         (None, 10)                20        \n",
            "                                                                 \n",
            " Output_Layer (Dense)        (None, 1)                 11        \n",
            "                                                                 \n",
            "=================================================================\n",
            "Total params: 31\n",
            "Trainable params: 31\n",
            "Non-trainable params: 0\n",
            "_________________________________________________________________\n"
          ]
        },
        {
          "data": {
            "image/png": "[encoded data removed]",
            "text/plain": [
              "<IPython.core.display.Image object>"
            ]
          },
          "execution_count": 264,
          "metadata": {},
          "output_type": "execute_result"
        }
      ],
      "source": [
        "# Etape 1 : Création du modèle\n",
        "model_3 = tf.keras.Sequential(name = \"model_3\")\n",
        "model_3.add(tf.keras.layers.Dense(10, input_shape = [1], name = \"Input_Layer\"))\n",
        "model_3.add(tf.keras.layers.Dense(1, name = \"Output_Layer\"))\n",
        "\n",
        "#Etape 2 : Compiler le modèle\n",
        "model_3.compile(loss=\"mae\",\n",
        "              optimizer=tf.keras.optimizers.Adam(),\n",
        "              metrics=[\"mae\"])\n",
        "\n",
        "\n",
        "#3. Visualisation des parametres du modèle\n",
        "model_3.summary()\n",
        "#4. Entrainement du modèle\n",
        "model_3.fit(X_Train,y_Train, epochs = 500, verbose = 0)\n",
        "\n",
        "#5 Visualisation du modèle\n",
        "plot_model(model = model_3, show_shapes = True)"
      ]
    },
    {
      "cell_type": "code",
      "execution_count": null,
      "metadata": {
        "id": "2aKRSfC_2AWy"
      },
      "outputs": [],
      "source": [
        "y_pred_3 = model_3.predict(X_Test)"
      ]
    },
    {
      "cell_type": "code",
      "execution_count": null,
      "metadata": {
        "colab": {
          "base_uri": "https://localhost:8080/",
          "height": 428
        },
        "id": "PEfY52OA2FZx",
        "outputId": "f1a7ad8b-f317-43d2-c7eb-d833e1a27927"
      },
      "outputs": [
        {
          "data": {
            "image/png": "[encoded data removed]",
            "text/plain": [
              "<Figure size 720x504 with 1 Axes>"
            ]
          },
          "metadata": {},
          "output_type": "display_data"
        }
      ],
      "source": [
        "Visualisation_data(pred_label = y_pred_3)"
      ]
    },
    {
      "cell_type": "code",
      "execution_count": null,
      "metadata": {
        "colab": {
          "base_uri": "https://localhost:8080/"
        },
        "id": "zVUa_iCo2Hti",
        "outputId": "2fc9aac2-4eac-45ad-c356-66847644cc74"
      },
      "outputs": [
        {
          "data": {
            "text/plain": [
              "(<tf.Tensor: shape=(), dtype=float32, numpy=8.985845>,\n",
              " <tf.Tensor: shape=(), dtype=float32, numpy=81.18141>)"
            ]
          },
          "execution_count": 267,
          "metadata": {},
          "output_type": "execute_result"
        }
      ],
      "source": [
        "mae_3 = tf.metrics.mean_absolute_error(y_true = y_Test, y_pred = tf.squeeze(y_pred_3))\n",
        "mse_3 = tf.metrics.mean_squared_error(y_true = y_Test, y_pred = tf.squeeze(y_pred_3))\n",
        "mae_3, mse_3"
      ]
    },
    {
      "cell_type": "markdown",
      "metadata": {
        "id": "0HKIsTSP5OgQ"
      },
      "source": [
        "### Model : Couche de 50 neurone et Epoch de 500"
      ]
    },
    {
      "cell_type": "code",
      "execution_count": null,
      "metadata": {
        "colab": {
          "base_uri": "https://localhost:8080/",
          "height": 533
        },
        "id": "AsFhPKId5N9s",
        "outputId": "f3ae6861-a7d3-4e51-aba7-781c11d26478"
      },
      "outputs": [
        {
          "name": "stdout",
          "output_type": "stream",
          "text": [
            "Model: \"model_4\"\n",
            "_________________________________________________________________\n",
            " Layer (type)                Output Shape              Param #   \n",
            "=================================================================\n",
            " Input_Layer (Dense)         (None, 50)                100       \n",
            "                                                                 \n",
            " Output_Layer (Dense)        (None, 1)                 51        \n",
            "                                                                 \n",
            "=================================================================\n",
            "Total params: 151\n",
            "Trainable params: 151\n",
            "Non-trainable params: 0\n",
            "_________________________________________________________________\n"
          ]
        },
        {
          "data": {
            "image/png": "[encoded data removed]",
            "text/plain": [
              "<IPython.core.display.Image object>"
            ]
          },
          "execution_count": 271,
          "metadata": {},
          "output_type": "execute_result"
        }
      ],
      "source": [
        "# Etape 1 : Création du modèle\n",
        "model_4 = tf.keras.Sequential(name = \"model_4\")\n",
        "model_4.add(tf.keras.layers.Dense(50, input_shape = [1], name = \"Input_Layer\"))\n",
        "model_4.add(tf.keras.layers.Dense(1, name = \"Output_Layer\"))\n",
        "\n",
        "#Etape 2 : Compiler le modèle\n",
        "model_4.compile(loss=\"mae\",\n",
        "              optimizer=tf.keras.optimizers.Adam(),\n",
        "              metrics=[\"mae\"])\n",
        "\n",
        "\n",
        "#3. Visualisation des parametres du modèle\n",
        "model_4.summary()\n",
        "#4. Entrainement du modèle\n",
        "model_4.fit(X_Train,y_Train, epochs = 500, verbose = 0)\n",
        "\n",
        "#5 Visualisation du modèle\n",
        "plot_model(model = model_3, show_shapes = True)"
      ]
    },
    {
      "cell_type": "code",
      "execution_count": null,
      "metadata": {
        "id": "O2q-rJgb5fBF"
      },
      "outputs": [],
      "source": [
        "y_pred_4 = model_4.predict(X_Test)"
      ]
    },
    {
      "cell_type": "code",
      "execution_count": null,
      "metadata": {
        "colab": {
          "base_uri": "https://localhost:8080/"
        },
        "id": "pH-VSOFF5log",
        "outputId": "09a77edf-4d4e-4574-ece6-fbd50e45084e"
      },
      "outputs": [
        {
          "data": {
            "text/plain": [
              "(<tf.Tensor: shape=(), dtype=float32, numpy=0.09363447>,\n",
              " <tf.Tensor: shape=(), dtype=float32, numpy=81.18141>)"
            ]
          },
          "execution_count": 273,
          "metadata": {},
          "output_type": "execute_result"
        }
      ],
      "source": [
        "mae_4 = tf.metrics.mean_absolute_error(y_true = y_Test, y_pred = tf.squeeze(y_pred_4))\n",
        "mse_4 = tf.metrics.mean_squared_error(y_true = y_Test, y_pred = tf.squeeze(y_pred_4))\n",
        "mae_4, mse_3"
      ]
    },
    {
      "cell_type": "markdown",
      "metadata": {
        "id": "yGiQsoR42gu2"
      },
      "source": [
        "### Comparaison des résultats"
      ]
    },
    {
      "cell_type": "markdown",
      "metadata": {
        "id": "kLc1xc3Q2r1S"
      },
      "source": [
        "Maintenant que nous avions testé plusieurs modèles, il faut pouvoir les comparer intelligement.\n",
        "\n",
        "🔑 **Note** : Toujours commencer avec des modèles simples. Ce n'est ensuite qu'on commencera par complexifier le modèle"
      ]
    },
    {
      "cell_type": "code",
      "execution_count": null,
      "metadata": {
        "colab": {
          "base_uri": "https://localhost:8080/",
          "height": 173
        },
        "id": "Ffdy2BjQ2Mut",
        "outputId": "4d0e51b3-cfd9-49fb-f286-5291f3ac09b1"
      },
      "outputs": [
        {
          "data": {
            "text/html": [
              "\n",
              "  <div id=\"df-f0283619-a236-458d-b9d8-09523b2f99ee\">\n",
              "    <div class=\"colab-df-container\">\n",
              "      <div>\n",
              "<style scoped>\n",
              "    .dataframe tbody tr th:only-of-type {\n",
              "        vertical-align: middle;\n",
              "    }\n",
              "\n",
              "    .dataframe tbody tr th {\n",
              "        vertical-align: top;\n",
              "    }\n",
              "\n",
              "    .dataframe thead th {\n",
              "        text-align: right;\n",
              "    }\n",
              "</style>\n",
              "<table border=\"1\" class=\"dataframe\">\n",
              "  <thead>\n",
              "    <tr style=\"text-align: right;\">\n",
              "      <th></th>\n",
              "      <th>Model</th>\n",
              "      <th>MAE</th>\n",
              "      <th>MSE</th>\n",
              "    </tr>\n",
              "  </thead>\n",
              "  <tbody>\n",
              "    <tr>\n",
              "      <th>0</th>\n",
              "      <td>model 1</td>\n",
              "      <td>tf.Tensor(21.08491, shape=(), dtype=float32)</td>\n",
              "      <td>tf.Tensor(447.01743, shape=(), dtype=float32)</td>\n",
              "    </tr>\n",
              "    <tr>\n",
              "      <th>1</th>\n",
              "      <td>model 2</td>\n",
              "      <td>tf.Tensor(19.323837, shape=(), dtype=float32)</td>\n",
              "      <td>tf.Tensor(375.45013, shape=(), dtype=float32)</td>\n",
              "    </tr>\n",
              "    <tr>\n",
              "      <th>2</th>\n",
              "      <td>model 3</td>\n",
              "      <td>tf.Tensor(8.985845, shape=(), dtype=float32)</td>\n",
              "      <td>tf.Tensor(81.18141, shape=(), dtype=float32)</td>\n",
              "    </tr>\n",
              "    <tr>\n",
              "      <th>3</th>\n",
              "      <td>model 4</td>\n",
              "      <td>tf.Tensor(0.09363447, shape=(), dtype=float32)</td>\n",
              "      <td>tf.Tensor(0.008997126, shape=(), dtype=float32)</td>\n",
              "    </tr>\n",
              "  </tbody>\n",
              "</table>\n",
              "</div>\n",
              "      <button class=\"colab-df-convert\" onclick=\"convertToInteractive('df-f0283619-a236-458d-b9d8-09523b2f99ee')\"\n",
              "              title=\"Convert this dataframe to an interactive table.\"\n",
              "              style=\"display:none;\">\n",
              "        \n",
              "  <svg xmlns=\"http://www.w3.org/2000/svg\" height=\"24px\"viewBox=\"0 0 24 24\"\n",
              "       width=\"24px\">\n",
              "    <path d=\"M0 0h24v24H0V0z\" fill=\"none\"/>\n",
              "    <path d=\"M18.56 5.44l.94 2.06.94-2.06 2.06-.94-2.06-.94-.94-2.06-.94 2.06-2.06.94zm-11 1L8.5 8.5l.94-2.06 2.06-.94-2.06-.94L8.5 2.5l-.94 2.06-2.06.94zm10 10l.94 2.06.94-2.06 2.06-.94-2.06-.94-.94-2.06-.94 2.06-2.06.94z\"/><path d=\"M17.41 7.96l-1.37-1.37c-.4-.4-.92-.59-1.43-.59-.52 0-1.04.2-1.43.59L10.3 9.45l-7.72 7.72c-.78.78-.78 2.05 0 2.83L4 21.41c.39.39.9.59 1.41.59.51 0 1.02-.2 1.41-.59l7.78-7.78 2.81-2.81c.8-.78.8-2.07 0-2.86zM5.41 20L4 18.59l7.72-7.72 1.47 1.35L5.41 20z\"/>\n",
              "  </svg>\n",
              "      </button>\n",
              "      \n",
              "  <style>\n",
              "    .colab-df-container {\n",
              "      display:flex;\n",
              "      flex-wrap:wrap;\n",
              "      gap: 12px;\n",
              "    }\n",
              "\n",
              "    .colab-df-convert {\n",
              "      background-color: #E8F0FE;\n",
              "      border: none;\n",
              "      border-radius: 50%;\n",
              "      cursor: pointer;\n",
              "      display: none;\n",
              "      fill: #1967D2;\n",
              "      height: 32px;\n",
              "      padding: 0 0 0 0;\n",
              "      width: 32px;\n",
              "    }\n",
              "\n",
              "    .colab-df-convert:hover {\n",
              "      background-color: #E2EBFA;\n",
              "      box-shadow: 0px 1px 2px rgba(60, 64, 67, 0.3), 0px 1px 3px 1px rgba(60, 64, 67, 0.15);\n",
              "      fill: #174EA6;\n",
              "    }\n",
              "\n",
              "    [theme=dark] .colab-df-convert {\n",
              "      background-color: #3B4455;\n",
              "      fill: #D2E3FC;\n",
              "    }\n",
              "\n",
              "    [theme=dark] .colab-df-convert:hover {\n",
              "      background-color: #434B5C;\n",
              "      box-shadow: 0px 1px 3px 1px rgba(0, 0, 0, 0.15);\n",
              "      filter: drop-shadow(0px 1px 2px rgba(0, 0, 0, 0.3));\n",
              "      fill: #FFFFFF;\n",
              "    }\n",
              "  </style>\n",
              "\n",
              "      <script>\n",
              "        const buttonEl =\n",
              "          document.querySelector('#df-f0283619-a236-458d-b9d8-09523b2f99ee button.colab-df-convert');\n",
              "        buttonEl.style.display =\n",
              "          google.colab.kernel.accessAllowed ? 'block' : 'none';\n",
              "\n",
              "        async function convertToInteractive(key) {\n",
              "          const element = document.querySelector('#df-f0283619-a236-458d-b9d8-09523b2f99ee');\n",
              "          const dataTable =\n",
              "            await google.colab.kernel.invokeFunction('convertToInteractive',\n",
              "                                                     [key], {});\n",
              "          if (!dataTable) return;\n",
              "\n",
              "          const docLinkHtml = 'Like what you see? Visit the ' +\n",
              "            '<a target=\"_blank\" href=https://colab.research.google.com/notebooks/data_table.ipynb>data table notebook</a>'\n",
              "            + ' to learn more about interactive tables.';\n",
              "          element.innerHTML = '';\n",
              "          dataTable['output_type'] = 'display_data';\n",
              "          await google.colab.output.renderOutput(dataTable, element);\n",
              "          const docLink = document.createElement('div');\n",
              "          docLink.innerHTML = docLinkHtml;\n",
              "          element.appendChild(docLink);\n",
              "        }\n",
              "      </script>\n",
              "    </div>\n",
              "  </div>\n",
              "  "
            ],
            "text/plain": [
              "     Model                                             MAE  \\\n",
              "0  model 1    tf.Tensor(21.08491, shape=(), dtype=float32)   \n",
              "1  model 2   tf.Tensor(19.323837, shape=(), dtype=float32)   \n",
              "2  model 3    tf.Tensor(8.985845, shape=(), dtype=float32)   \n",
              "3  model 4  tf.Tensor(0.09363447, shape=(), dtype=float32)   \n",
              "\n",
              "                                               MSE  \n",
              "0    tf.Tensor(447.01743, shape=(), dtype=float32)  \n",
              "1    tf.Tensor(375.45013, shape=(), dtype=float32)  \n",
              "2     tf.Tensor(81.18141, shape=(), dtype=float32)  \n",
              "3  tf.Tensor(0.008997126, shape=(), dtype=float32)  "
            ]
          },
          "execution_count": 274,
          "metadata": {},
          "output_type": "execute_result"
        }
      ],
      "source": [
        "import pandas as pd\n",
        "model_results = [\n",
        "    [\"model 1\", mae_1, mse_1],\n",
        "    [\"model 2\", mae_2, mse_2],\n",
        "    [\"model 3\", mae_3, mse_3],\n",
        "    [\"model 4\", mae_4, mse_4]]\n",
        "\n",
        "Results = pd.DataFrame(model_results, columns=['Model', 'MAE', 'MSE'])\n",
        "Results"
      ]
    },
    {
      "cell_type": "code",
      "execution_count": null,
      "metadata": {
        "colab": {
          "base_uri": "https://localhost:8080/",
          "height": 445
        },
        "id": "8ZRxtKln35_c",
        "outputId": "52a6d8ce-0efc-4b64-99f3-3deb1e6e27a8"
      },
      "outputs": [
        {
          "data": {
            "text/plain": [
              "<matplotlib.legend.Legend at 0x7f7461c43cd0>"
            ]
          },
          "execution_count": 275,
          "metadata": {},
          "output_type": "execute_result"
        },
        {
          "data": {
            "image/png": "[encoded data removed]",
            "text/plain": [
              "<Figure size 720x504 with 1 Axes>"
            ]
          },
          "metadata": {},
          "output_type": "display_data"
        }
      ],
      "source": [
        "plt.figure(figsize = (10,7))\n",
        "plt.scatter(X_Train, y_Train, c = 'g', label = 'Train Data')\n",
        "plt.scatter(X_Test, y_Test, c = 'b', label = 'Test Data')\n",
        "plt.scatter(X_Test, y_pred_1, c = 'red', label = 'Prediction Model 1')\n",
        "plt.scatter(X_Test, y_pred_2, c = 'orange', label = 'Prediction Model 2')\n",
        "plt.scatter(X_Test, y_pred_3, c = 'brown', label = 'Prediction Model 3')\n",
        "plt.scatter(X_Test, y_pred_4, c = 'purple', label = 'Prediction Model 4')\n",
        "plt.legend(loc='best')"
      ]
    },
    {
      "cell_type": "markdown",
      "metadata": {
        "id": "AkIjdVJe4_Yd"
      },
      "source": [
        "🔑 **Remarque** - Nous pouvons voir clairement que l'évolution des facteurs du modèle influence le résultat\n",
        "\n",
        "🏅 Le **model 4** est clairement le meilleur.\n"
      ]
    },
    {
      "cell_type": "markdown",
      "metadata": {
        "id": "Xrp8iTAO7H3S"
      },
      "source": [
        "# Sauvegarder et charger son modele"
      ]
    },
    {
      "cell_type": "markdown",
      "metadata": {
        "id": "IMSwyvbp_E5n"
      },
      "source": [
        "## Sauvegarder le modèle"
      ]
    },
    {
      "cell_type": "markdown",
      "metadata": {
        "id": "3DIewBF-7NpD"
      },
      "source": [
        "Sauvegarder son modele permet de pouvoir l'utliser quelque part.\n",
        "\n",
        "En effet, que ce soit un modèle à partager ou un modèle à envoyer dans une application.\n",
        "\n",
        "Si vous n'enregistrez pas votre modèle, il ne servira à rien.\n",
        "\n",
        "Il existe deux méthode d'enregistrement de votre modèle :\n",
        "- Le format MODELE `.model`, modèle sauvé par défaut par Tensorflow\n",
        "- Le HDF File. `.hdf`\n"
      ]
    },
    {
      "cell_type": "markdown",
      "metadata": {
        "id": "--C7YmxH8HPQ"
      },
      "source": [
        "### Le format Model"
      ]
    },
    {
      "cell_type": "code",
      "execution_count": null,
      "metadata": {
        "colab": {
          "base_uri": "https://localhost:8080/"
        },
        "id": "DpxJA-kw4zI0",
        "outputId": "639e33ae-a77f-4a6b-dbbf-cc4b15be2517"
      },
      "outputs": [
        {
          "name": "stderr",
          "output_type": "stream",
          "text": [
            "WARNING:absl:Function `_wrapped_model` contains input name(s) Input_Layer_input with unsupported characters which will be renamed to input_layer_input in the SavedModel.\n"
          ]
        }
      ],
      "source": [
        "model_4.save(\"Model_Regression_linéaire_simple_SavedModel\")"
      ]
    },
    {
      "cell_type": "markdown",
      "metadata": {
        "id": "afvwLjee8rTt"
      },
      "source": [
        "### Le format HDF"
      ]
    },
    {
      "cell_type": "code",
      "execution_count": null,
      "metadata": {
        "id": "fjvxL4Iz8qCR"
      },
      "outputs": [],
      "source": [
        "model_4.save(\"Model_Regression_linéaire_simple_HDF.h5\")"
      ]
    },
    {
      "cell_type": "markdown",
      "metadata": {
        "id": "N_0bFOHe_VnA"
      },
      "source": [
        "**Où se trouvent les modèles enregistrés ?**\n",
        "\n",
        "Ils sont dans collab où dans le dossier que vous avez donné.\n",
        "\n",
        "Dans collab, nous les trouverons ici :"
      ]
    },
    {
      "cell_type": "markdown",
      "metadata": {
        "id": "hKKXIBbi_PR6"
      },
      "source": [
        "![Capture d’écran 2022-08-13 à 13.35.30.png](data:image/png;base64,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)"
      ]
    },
    {
      "cell_type": "markdown",
      "metadata": {
        "id": "C3z24dxN_AQV"
      },
      "source": [
        "## Charger son modèle"
      ]
    },
    {
      "cell_type": "code",
      "execution_count": null,
      "metadata": {
        "colab": {
          "background_save": true,
          "base_uri": "https://localhost:8080/",
          "height": 358
        },
        "id": "lBKjLIuv_0OF",
        "outputId": "c12fc970-825d-4471-8a02-1271442244ab"
      },
      "outputs": [
        {
          "ename": "OSError",
          "evalue": "ignored",
          "output_type": "error",
          "traceback": [
            "\u001b[0;31m---------------------------------------------------------------------------\u001b[0m",
            "\u001b[0;31mOSError\u001b[0m                                   Traceback (most recent call last)",
            "\u001b[0;32m<ipython-input-284-dba54cda03fd>\u001b[0m in \u001b[0;36m<module>\u001b[0;34m()\u001b[0m\n\u001b[0;32m----> 1\u001b[0;31m \u001b[0mloaded_savedformat_model\u001b[0m \u001b[0;34m=\u001b[0m \u001b[0mtf\u001b[0m\u001b[0;34m.\u001b[0m\u001b[0mkeras\u001b[0m\u001b[0;34m.\u001b[0m\u001b[0mmodels\u001b[0m\u001b[0;34m.\u001b[0m\u001b[0mload_model\u001b[0m\u001b[0;34m(\u001b[0m\u001b[0;34m\"/content/Model_Regression_linéaire_simple_SavedModel\"\u001b[0m\u001b[0;34m)\u001b[0m\u001b[0;34m\u001b[0m\u001b[0;34m\u001b[0m\u001b[0m\n\u001b[0m\u001b[1;32m      2\u001b[0m \u001b[0mloaded_hdf_model\u001b[0m \u001b[0;34m=\u001b[0m \u001b[0mtf\u001b[0m\u001b[0;34m.\u001b[0m\u001b[0mkeras\u001b[0m\u001b[0;34m.\u001b[0m\u001b[0mmodels\u001b[0m\u001b[0;34m.\u001b[0m\u001b[0mload_model\u001b[0m\u001b[0;34m(\u001b[0m\u001b[0;34m\"/content/Model_Regression_linéaire_simple_HDF.h5\"\u001b[0m\u001b[0;34m)\u001b[0m\u001b[0;34m\u001b[0m\u001b[0;34m\u001b[0m\u001b[0m\n",
            "\u001b[0;32m/usr/local/lib/python3.7/dist-packages/keras/utils/traceback_utils.py\u001b[0m in \u001b[0;36merror_handler\u001b[0;34m(*args, **kwargs)\u001b[0m\n\u001b[1;32m     65\u001b[0m     \u001b[0;32mexcept\u001b[0m \u001b[0mException\u001b[0m \u001b[0;32mas\u001b[0m \u001b[0me\u001b[0m\u001b[0;34m:\u001b[0m  \u001b[0;31m# pylint: disable=broad-except\u001b[0m\u001b[0;34m\u001b[0m\u001b[0;34m\u001b[0m\u001b[0m\n\u001b[1;32m     66\u001b[0m       \u001b[0mfiltered_tb\u001b[0m \u001b[0;34m=\u001b[0m \u001b[0m_process_traceback_frames\u001b[0m\u001b[0;34m(\u001b[0m\u001b[0me\u001b[0m\u001b[0;34m.\u001b[0m\u001b[0m__traceback__\u001b[0m\u001b[0;34m)\u001b[0m\u001b[0;34m\u001b[0m\u001b[0;34m\u001b[0m\u001b[0m\n\u001b[0;32m---> 67\u001b[0;31m       \u001b[0;32mraise\u001b[0m \u001b[0me\u001b[0m\u001b[0;34m.\u001b[0m\u001b[0mwith_traceback\u001b[0m\u001b[0;34m(\u001b[0m\u001b[0mfiltered_tb\u001b[0m\u001b[0;34m)\u001b[0m \u001b[0;32mfrom\u001b[0m \u001b[0;32mNone\u001b[0m\u001b[0;34m\u001b[0m\u001b[0;34m\u001b[0m\u001b[0m\n\u001b[0m\u001b[1;32m     68\u001b[0m     \u001b[0;32mfinally\u001b[0m\u001b[0;34m:\u001b[0m\u001b[0;34m\u001b[0m\u001b[0;34m\u001b[0m\u001b[0m\n\u001b[1;32m     69\u001b[0m       \u001b[0;32mdel\u001b[0m \u001b[0mfiltered_tb\u001b[0m\u001b[0;34m\u001b[0m\u001b[0;34m\u001b[0m\u001b[0m\n",
            "\u001b[0;32m/usr/local/lib/python3.7/dist-packages/keras/saving/save.py\u001b[0m in \u001b[0;36mload_model\u001b[0;34m(filepath, custom_objects, compile, options)\u001b[0m\n\u001b[1;32m    202\u001b[0m         \u001b[0;32mif\u001b[0m \u001b[0misinstance\u001b[0m\u001b[0;34m(\u001b[0m\u001b[0mfilepath_str\u001b[0m\u001b[0;34m,\u001b[0m \u001b[0mstr\u001b[0m\u001b[0;34m)\u001b[0m\u001b[0;34m:\u001b[0m\u001b[0;34m\u001b[0m\u001b[0;34m\u001b[0m\u001b[0m\n\u001b[1;32m    203\u001b[0m           \u001b[0;32mif\u001b[0m \u001b[0;32mnot\u001b[0m \u001b[0mtf\u001b[0m\u001b[0;34m.\u001b[0m\u001b[0mio\u001b[0m\u001b[0;34m.\u001b[0m\u001b[0mgfile\u001b[0m\u001b[0;34m.\u001b[0m\u001b[0mexists\u001b[0m\u001b[0;34m(\u001b[0m\u001b[0mfilepath_str\u001b[0m\u001b[0;34m)\u001b[0m\u001b[0;34m:\u001b[0m\u001b[0;34m\u001b[0m\u001b[0;34m\u001b[0m\u001b[0m\n\u001b[0;32m--> 204\u001b[0;31m             \u001b[0;32mraise\u001b[0m \u001b[0mIOError\u001b[0m\u001b[0;34m(\u001b[0m\u001b[0;34mf'No file or directory found at {filepath_str}'\u001b[0m\u001b[0;34m)\u001b[0m\u001b[0;34m\u001b[0m\u001b[0;34m\u001b[0m\u001b[0m\n\u001b[0m\u001b[1;32m    205\u001b[0m \u001b[0;34m\u001b[0m\u001b[0m\n\u001b[1;32m    206\u001b[0m           \u001b[0;32mif\u001b[0m \u001b[0mtf\u001b[0m\u001b[0;34m.\u001b[0m\u001b[0mio\u001b[0m\u001b[0;34m.\u001b[0m\u001b[0mgfile\u001b[0m\u001b[0;34m.\u001b[0m\u001b[0misdir\u001b[0m\u001b[0;34m(\u001b[0m\u001b[0mfilepath_str\u001b[0m\u001b[0;34m)\u001b[0m\u001b[0;34m:\u001b[0m\u001b[0;34m\u001b[0m\u001b[0;34m\u001b[0m\u001b[0m\n",
            "\u001b[0;31mOSError\u001b[0m: No file or directory found at /content/Model_Regression_linéaire_simple_SavedModel"
          ]
        }
      ],
      "source": [
        "loaded_savedformat_model = tf.keras.models.load_model(\"/content/Model_Regression_linéaire_simple_SavedModel\")\n",
        "loaded_hdf_model = tf.keras.models.load_model(\"content/Model_Regression_linéaire_simple_HDF.h5\")"
      ]
    },
    {
      "cell_type": "code",
      "execution_count": null,
      "metadata": {
        "id": "emGFCTr0_CCA"
      },
      "outputs": [],
      "source": [
        ""
      ]
    }
  ],
  "metadata": {
    "colab": {
      "name": "01 - Réseau de neurones : Régression.ipynb",
      "provenance": []
    },
    "kernelspec": {
      "display_name": "Python 3",
      "name": "python3"
    },
    "language_info": {
      "name": "python"
    }
  },
  "nbformat": 4,
  "nbformat_minor": 0
}